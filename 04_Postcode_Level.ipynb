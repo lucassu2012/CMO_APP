{
 "cells": [
  {
   "cell_type": "code",
   "execution_count": 1,
   "id": "traditional-hampton",
   "metadata": {},
   "outputs": [],
   "source": [
    "import numpy as np\n",
    "import pandas as pd\n",
    "import geopandas as gpd\n",
    "import matplotlib.pyplot as plt\n",
    "from pysal.lib import weights"
   ]
  },
  {
   "cell_type": "code",
   "execution_count": 2,
   "id": "limiting-resolution",
   "metadata": {},
   "outputs": [],
   "source": [
    "from FoliumPlot import folium_plot, folium_layout\n",
    "from Functions import *"
   ]
  },
  {
   "cell_type": "markdown",
   "id": "alive-mechanism",
   "metadata": {},
   "source": [
    "## ST PC TERMINAL"
   ]
  },
  {
   "cell_type": "markdown",
   "id": "stable-event",
   "metadata": {},
   "source": [
    "### Import helsinki map"
   ]
  },
  {
   "cell_type": "code",
   "execution_count": 6,
   "id": "dominican-carter",
   "metadata": {},
   "outputs": [],
   "source": [
    "# map path\n",
    "map_pc_geo_path = \"map/map_pc_geo\"\n",
    "map_pc_geo = gpd.read_file(map_pc_geo_path)"
   ]
  },
  {
   "cell_type": "code",
   "execution_count": 9,
   "id": "homeless-scenario",
   "metadata": {},
   "outputs": [],
   "source": [
    "# Helsinki center pc map\n",
    "filter_map_adm_helsinki = [\"Helsinki\", \"Vantaa\", \"Espoo\"]\n",
    "map_pc_helsinki = map_pc_geo.query(\"NAME_4 in @filter_map_adm_helsinki\").reset_index(\n",
    "    drop=True\n",
    ")"
   ]
  },
  {
   "cell_type": "markdown",
   "id": "relevant-raleigh",
   "metadata": {},
   "source": [
    "### Import Data"
   ]
  },
  {
   "cell_type": "code",
   "execution_count": 10,
   "id": "registered-match",
   "metadata": {},
   "outputs": [],
   "source": [
    "# path and import\n",
    "data_st_grid_ter_interpolate_path = 'data/st/03b_data_st_ter_grid_pred.csv'\n",
    "data_st_grid_ter_interpolate_raw = pd.read_csv(data_st_grid_ter_interpolate_path, na_values=[0])"
   ]
  },
  {
   "cell_type": "code",
   "execution_count": 11,
   "id": "second-cambridge",
   "metadata": {},
   "outputs": [
    {
     "name": "stdout",
     "output_type": "stream",
     "text": [
      "<class 'geopandas.geodataframe.GeoDataFrame'>\n",
      "RangeIndex: 22221 entries, 0 to 22220\n",
      "Data columns (total 40 columns):\n",
      " #   Column                 Non-Null Count  Dtype   \n",
      "---  ------                 --------------  -----   \n",
      " 0   Longitude              22221 non-null  float64 \n",
      " 1   Latitude               22221 non-null  float64 \n",
      " 2   operator_name          22221 non-null  object  \n",
      " 3   sample_origin_4g_ios   10815 non-null  float64 \n",
      " 4   sample_count_4g_ios    10815 non-null  float64 \n",
      " 5   device_count_4g_ios    10815 non-null  float64 \n",
      " 6   sample_origin_4g_ad    12676 non-null  float64 \n",
      " 7   sample_count_4g_ad     12676 non-null  float64 \n",
      " 8   device_count_4g_ad     12676 non-null  float64 \n",
      " 9   sample_origin_ip12_5g  3667 non-null   float64 \n",
      " 10  sample_count_ip12_5g   3667 non-null   float64 \n",
      " 11  device_count_ip12_5g   3667 non-null   float64 \n",
      " 12  sample_origin_ip12_fb  1636 non-null   float64 \n",
      " 13  sample_count_ip12_fb   1636 non-null   float64 \n",
      " 14  device_count_ip12_fb   1636 non-null   float64 \n",
      " 15  sample_origin_ip12_lk  2261 non-null   float64 \n",
      " 16  sample_count_ip12_lk   2261 non-null   float64 \n",
      " 17  device_count_ip12_lk   2261 non-null   float64 \n",
      " 18  sample_origin_ad_5g    5635 non-null   float64 \n",
      " 19  sample_count_ad_5g     5635 non-null   float64 \n",
      " 20  device_count_ad_5g     5635 non-null   float64 \n",
      " 21  sample_origin_ad_fb    4211 non-null   float64 \n",
      " 22  sample_count_ad_fb     4211 non-null   float64 \n",
      " 23  device_count_ad_fb     4211 non-null   float64 \n",
      " 24  sample_origin_ad_lk    2248 non-null   float64 \n",
      " 25  sample_count_ad_lk     2248 non-null   float64 \n",
      " 26  device_count_ad_lk     2248 non-null   float64 \n",
      " 27  avg_dl_4g_ios          10810 non-null  float64 \n",
      " 28  avg_dl_4g_ad           12665 non-null  float64 \n",
      " 29  avg_dl_ip12_5g         3666 non-null   float64 \n",
      " 30  avg_dl_ip12_fb         1636 non-null   float64 \n",
      " 31  avg_dl_ip12_lk         2260 non-null   float64 \n",
      " 32  avg_dl_ad_5g           5634 non-null   float64 \n",
      " 33  avg_dl_ad_fb           4209 non-null   float64 \n",
      " 34  avg_dl_ad_lk           2242 non-null   float64 \n",
      " 35  geometry               22221 non-null  geometry\n",
      " 36  avg_dl_4g_ios_pred     22221 non-null  float64 \n",
      " 37  avg_dl_4g_ad_pred      22221 non-null  float64 \n",
      " 38  avg_dl_ip12_5g_pred    22221 non-null  float64 \n",
      " 39  avg_dl_ad_5g_pred      22221 non-null  float64 \n",
      "dtypes: float64(38), geometry(1), object(1)\n",
      "memory usage: 6.8+ MB\n"
     ]
    }
   ],
   "source": [
    "# convert to gdf\n",
    "data_st_grid_ter_interpolate_geo = gpd.GeoDataFrame(data_st_grid_ter_interpolate_raw,\n",
    "                                                    geometry=gpd.points_from_xy(\n",
    "                                                        data_st_grid_ter_interpolate_raw.Longitude,\n",
    "                                                        data_st_grid_ter_interpolate_raw.Latitude),\n",
    "                                                    crs=4326\n",
    "                                                    )\n",
    "\n",
    "data_st_grid_ter_interpolate_geo.info()"
   ]
  },
  {
   "cell_type": "markdown",
   "id": "geographic-cruise",
   "metadata": {},
   "source": [
    "### Aggregate Data"
   ]
  },
  {
   "cell_type": "code",
   "execution_count": 12,
   "id": "traditional-sword",
   "metadata": {},
   "outputs": [],
   "source": [
    "# initial parameters\n",
    "filter_st_pc_ter_regex = \"device_count\"\n",
    "filter_st_pc_ter_operators = [\"DNA\", \"Elisa\", \"Telia\"]\n",
    "col_st_pc_ter_operator = \"operator_name\"\n",
    "col_st_pc_ter_group = [\"NAME_1\", \"NAME_2\", \"NAME_3\", \"NAME_4\", \"posti_alue\"]\n",
    "col_st_pc_ter_sum = [\n",
    "    \"sample_origin_4g_ios\",\n",
    "    \"sample_count_4g_ios\",\n",
    "    \"device_count_4g_ios\",\n",
    "    \"sample_origin_4g_ad\",\n",
    "    \"sample_count_4g_ad\",\n",
    "    \"device_count_4g_ad\",\n",
    "    \"sample_origin_ip12_5g\",\n",
    "    \"sample_count_ip12_5g\",\n",
    "    \"device_count_ip12_5g\",\n",
    "    \"sample_origin_ip12_fb\",\n",
    "    \"sample_count_ip12_fb\",\n",
    "    \"device_count_ip12_fb\",\n",
    "    \"sample_origin_ip12_lk\",\n",
    "    \"sample_count_ip12_lk\",\n",
    "    \"device_count_ip12_lk\",\n",
    "    \"sample_origin_ad_5g\",\n",
    "    \"sample_count_ad_5g\",\n",
    "    \"device_count_ad_5g\",\n",
    "    \"sample_origin_ad_fb\",\n",
    "    \"sample_count_ad_fb\",\n",
    "    \"device_count_ad_fb\",\n",
    "    \"sample_origin_ad_lk\",\n",
    "    \"sample_count_ad_lk\",\n",
    "    \"device_count_ad_lk\",\n",
    "]\n",
    "col_st_pc_ter_mean = [\n",
    "    \"avg_dl_4g_ios\",\n",
    "    \"avg_dl_4g_ad\",\n",
    "    \"avg_dl_ip12_5g\",\n",
    "    \"avg_dl_ip12_fb\",\n",
    "    \"avg_dl_ip12_lk\",\n",
    "    \"avg_dl_ad_5g\",\n",
    "    \"avg_dl_ad_fb\",\n",
    "    \"avg_dl_ad_lk\",\n",
    "    \"avg_dl_4g_ios_pred\",\n",
    "    \"avg_dl_4g_ad_pred\",\n",
    "    \"avg_dl_ip12_5g_pred\",\n",
    "    \"avg_dl_ad_5g_pred\",\n",
    "]\n",
    "col_st_pc_ter_kpi = [\n",
    "    \"LTE_Average_Speed\",\n",
    "    \"NR_Samples\",\n",
    "    \"NR_Average_Speed\",\n",
    "    \"NR_Speed_Gain\",\n",
    "    \"NR_Terminal_Rate\",\n",
    "    \"NR_Register_Rate\",\n",
    "    \"NR_Function_Rate\",\n",
    "    \"NR_Fallback_Rate\",\n",
    "    \"I12_Samples\",\n",
    "    \"I12_Average_Speed\",\n",
    "    \"I12_Speed_Gain\",\n",
    "    \"I12_Terminal_Rate\",\n",
    "    \"I12_Register_Rate\",\n",
    "    \"I12_Function_Rate\",\n",
    "    \"I12_Fallback_Rate\",\n",
    "]\n",
    "col_st_pc_ter_function = [\n",
    "    cal_4g_average_speed,\n",
    "    cal_nr_total_samples,\n",
    "    cal_nr_average_speed,\n",
    "    cal_nr_speed_gain_ratio,\n",
    "    cal_nr_terminal_ratio,\n",
    "    cal_nr_register_ratio,\n",
    "    cal_nr_function_ratio,\n",
    "    cal_nr_fallback_ratio,\n",
    "    cal_ip12_total_samples,\n",
    "    cal_ip12_average_speed,\n",
    "    cal_ip12_speed_gain_ratio,\n",
    "    cal_ip12_terminal_ratio,\n",
    "    cal_ip12_register_ratio,\n",
    "    cal_ip12_function_ratio,\n",
    "    cal_ip12_fallback_ratio,\n",
    "]"
   ]
  },
  {
   "cell_type": "code",
   "execution_count": 13,
   "id": "literary-loading",
   "metadata": {},
   "outputs": [],
   "source": [
    "# group calculation\n",
    "data_st_pc_ter_group = (\n",
    "    gpd.sjoin(data_st_grid_ter_interpolate_geo, map_pc_helsinki)\n",
    "    .query(\"{} in @filter_st_pc_ter_operators\".format(col_st_pc_ter_operator))\n",
    "    .drop([\"index_right\", \"geometry\"], axis=1)\n",
    "    .groupby(col_st_pc_ter_group + [col_st_pc_ter_operator])\n",
    "    .agg(\n",
    "        {\n",
    "            **{kpi: np.sum for kpi in col_st_pc_ter_sum},\n",
    "            **{kpi: np.mean for kpi in col_st_pc_ter_mean},\n",
    "        }\n",
    "    )\n",
    "    .reset_index()\n",
    "    .replace(0, np.nan)\n",
    ")"
   ]
  },
  {
   "cell_type": "markdown",
   "id": "lovely-mouse",
   "metadata": {},
   "source": [
    "### Calculate KPI"
   ]
  },
  {
   "cell_type": "code",
   "execution_count": 14,
   "id": "thick-porter",
   "metadata": {},
   "outputs": [
    {
     "name": "stdout",
     "output_type": "stream",
     "text": [
      "<class 'pandas.core.frame.DataFrame'>\n",
      "RangeIndex: 483 entries, 0 to 482\n",
      "Data columns (total 57 columns):\n",
      " #   Column                 Non-Null Count  Dtype  \n",
      "---  ------                 --------------  -----  \n",
      " 0   NAME_1                 483 non-null    object \n",
      " 1   NAME_2                 483 non-null    object \n",
      " 2   NAME_3                 483 non-null    object \n",
      " 3   NAME_4                 483 non-null    object \n",
      " 4   posti_alue             483 non-null    object \n",
      " 5   operator_name          483 non-null    object \n",
      " 6   sample_origin_4g_ios   481 non-null    float64\n",
      " 7   sample_count_4g_ios    481 non-null    float64\n",
      " 8   device_count_4g_ios    481 non-null    float64\n",
      " 9   sample_origin_4g_ad    483 non-null    float64\n",
      " 10  sample_count_4g_ad     483 non-null    float64\n",
      " 11  device_count_4g_ad     483 non-null    float64\n",
      " 12  sample_origin_ip12_5g  415 non-null    float64\n",
      " 13  sample_count_ip12_5g   415 non-null    float64\n",
      " 14  device_count_ip12_5g   415 non-null    float64\n",
      " 15  sample_origin_ip12_fb  405 non-null    float64\n",
      " 16  sample_count_ip12_fb   405 non-null    float64\n",
      " 17  device_count_ip12_fb   405 non-null    float64\n",
      " 18  sample_origin_ip12_lk  433 non-null    float64\n",
      " 19  sample_count_ip12_lk   433 non-null    float64\n",
      " 20  device_count_ip12_lk   433 non-null    float64\n",
      " 21  sample_origin_ad_5g    436 non-null    float64\n",
      " 22  sample_count_ad_5g     436 non-null    float64\n",
      " 23  device_count_ad_5g     436 non-null    float64\n",
      " 24  sample_origin_ad_fb    461 non-null    float64\n",
      " 25  sample_count_ad_fb     461 non-null    float64\n",
      " 26  device_count_ad_fb     461 non-null    float64\n",
      " 27  sample_origin_ad_lk    436 non-null    float64\n",
      " 28  sample_count_ad_lk     436 non-null    float64\n",
      " 29  device_count_ad_lk     436 non-null    float64\n",
      " 30  avg_dl_4g_ios          481 non-null    float64\n",
      " 31  avg_dl_4g_ad           483 non-null    float64\n",
      " 32  avg_dl_ip12_5g         415 non-null    float64\n",
      " 33  avg_dl_ip12_fb         405 non-null    float64\n",
      " 34  avg_dl_ip12_lk         433 non-null    float64\n",
      " 35  avg_dl_ad_5g           436 non-null    float64\n",
      " 36  avg_dl_ad_fb           461 non-null    float64\n",
      " 37  avg_dl_ad_lk           436 non-null    float64\n",
      " 38  avg_dl_4g_ios_pred     483 non-null    float64\n",
      " 39  avg_dl_4g_ad_pred      483 non-null    float64\n",
      " 40  avg_dl_ip12_5g_pred    483 non-null    float64\n",
      " 41  avg_dl_ad_5g_pred      483 non-null    float64\n",
      " 42  LTE_Average_Speed      483 non-null    float64\n",
      " 43  NR_Samples             483 non-null    float64\n",
      " 44  NR_Average_Speed       447 non-null    float64\n",
      " 45  NR_Speed_Gain          471 non-null    float64\n",
      " 46  NR_Terminal_Rate       483 non-null    float64\n",
      " 47  NR_Register_Rate       476 non-null    float64\n",
      " 48  NR_Function_Rate       476 non-null    float64\n",
      " 49  NR_Fallback_Rate       475 non-null    float64\n",
      " 50  I12_Samples            483 non-null    float64\n",
      " 51  I12_Average_Speed      415 non-null    float64\n",
      " 52  I12_Speed_Gain         415 non-null    float64\n",
      " 53  I12_Terminal_Rate      476 non-null    float64\n",
      " 54  I12_Register_Rate      415 non-null    float64\n",
      " 55  I12_Function_Rate      468 non-null    float64\n",
      " 56  I12_Fallback_Rate      405 non-null    float64\n",
      "dtypes: float64(51), object(6)\n",
      "memory usage: 215.2+ KB\n"
     ]
    },
    {
     "name": "stderr",
     "output_type": "stream",
     "text": [
      "C:\\Users\\sy999\\J Project\\20210405_CMO_APP\\Functions.py:51: RuntimeWarning: invalid value encountered in true_divide\n",
      "  r = np.divide(ter_5g_reg, ter_5g_total)\n",
      "C:\\Users\\sy999\\J Project\\20210405_CMO_APP\\Functions.py:72: RuntimeWarning: invalid value encountered in true_divide\n",
      "  r = np.divide(ter_5g_fun, ter_5g_total)\n",
      "C:\\Users\\sy999\\J Project\\20210405_CMO_APP\\Functions.py:87: RuntimeWarning: invalid value encountered in true_divide\n",
      "  r = np.divide(ter_5g_fb, ter_5g_fun)\n",
      "C:\\Users\\sy999\\J Project\\20210405_CMO_APP\\Functions.py:101: RuntimeWarning: invalid value encountered in true_divide\n",
      "  r = np.divide(ter_5g_ip12, ter_5g_total)\n",
      "C:\\Users\\sy999\\J Project\\20210405_CMO_APP\\Functions.py:122: RuntimeWarning: invalid value encountered in true_divide\n",
      "  r = np.divide(ter_5g_fun_ip12, ter_5g_ip12)\n"
     ]
    }
   ],
   "source": [
    "# calculate market share kpi\n",
    "for kpi, function in zip(col_st_pc_ter_kpi, col_st_pc_ter_function):\n",
    "    data_st_pc_ter_group = data_st_pc_ter_group.assign(\n",
    "        **{kpi: lambda x: function(x, filter_st_pc_ter_regex)}\n",
    "    )\n",
    "\n",
    "data_st_pc_ter_group.info()"
   ]
  },
  {
   "cell_type": "markdown",
   "id": "apparent-clause",
   "metadata": {},
   "source": [
    "### Convert to gdf"
   ]
  },
  {
   "cell_type": "code",
   "execution_count": 16,
   "id": "abstract-trauma",
   "metadata": {},
   "outputs": [
    {
     "name": "stdout",
     "output_type": "stream",
     "text": [
      "<class 'geopandas.geodataframe.GeoDataFrame'>\n",
      "Int64Index: 483 entries, 0 to 482\n",
      "Data columns (total 58 columns):\n",
      " #   Column                 Non-Null Count  Dtype   \n",
      "---  ------                 --------------  -----   \n",
      " 0   posti_alue             483 non-null    object  \n",
      " 1   NAME_1                 483 non-null    object  \n",
      " 2   NAME_2                 483 non-null    object  \n",
      " 3   NAME_3                 483 non-null    object  \n",
      " 4   NAME_4                 483 non-null    object  \n",
      " 5   geometry               483 non-null    geometry\n",
      " 6   operator_name          483 non-null    object  \n",
      " 7   sample_origin_4g_ios   481 non-null    float64 \n",
      " 8   sample_count_4g_ios    481 non-null    float64 \n",
      " 9   device_count_4g_ios    481 non-null    float64 \n",
      " 10  sample_origin_4g_ad    483 non-null    float64 \n",
      " 11  sample_count_4g_ad     483 non-null    float64 \n",
      " 12  device_count_4g_ad     483 non-null    float64 \n",
      " 13  sample_origin_ip12_5g  415 non-null    float64 \n",
      " 14  sample_count_ip12_5g   415 non-null    float64 \n",
      " 15  device_count_ip12_5g   415 non-null    float64 \n",
      " 16  sample_origin_ip12_fb  405 non-null    float64 \n",
      " 17  sample_count_ip12_fb   405 non-null    float64 \n",
      " 18  device_count_ip12_fb   405 non-null    float64 \n",
      " 19  sample_origin_ip12_lk  433 non-null    float64 \n",
      " 20  sample_count_ip12_lk   433 non-null    float64 \n",
      " 21  device_count_ip12_lk   433 non-null    float64 \n",
      " 22  sample_origin_ad_5g    436 non-null    float64 \n",
      " 23  sample_count_ad_5g     436 non-null    float64 \n",
      " 24  device_count_ad_5g     436 non-null    float64 \n",
      " 25  sample_origin_ad_fb    461 non-null    float64 \n",
      " 26  sample_count_ad_fb     461 non-null    float64 \n",
      " 27  device_count_ad_fb     461 non-null    float64 \n",
      " 28  sample_origin_ad_lk    436 non-null    float64 \n",
      " 29  sample_count_ad_lk     436 non-null    float64 \n",
      " 30  device_count_ad_lk     436 non-null    float64 \n",
      " 31  avg_dl_4g_ios          481 non-null    float64 \n",
      " 32  avg_dl_4g_ad           483 non-null    float64 \n",
      " 33  avg_dl_ip12_5g         415 non-null    float64 \n",
      " 34  avg_dl_ip12_fb         405 non-null    float64 \n",
      " 35  avg_dl_ip12_lk         433 non-null    float64 \n",
      " 36  avg_dl_ad_5g           436 non-null    float64 \n",
      " 37  avg_dl_ad_fb           461 non-null    float64 \n",
      " 38  avg_dl_ad_lk           436 non-null    float64 \n",
      " 39  avg_dl_4g_ios_pred     483 non-null    float64 \n",
      " 40  avg_dl_4g_ad_pred      483 non-null    float64 \n",
      " 41  avg_dl_ip12_5g_pred    483 non-null    float64 \n",
      " 42  avg_dl_ad_5g_pred      483 non-null    float64 \n",
      " 43  LTE_Average_Speed      483 non-null    float64 \n",
      " 44  NR_Samples             483 non-null    float64 \n",
      " 45  NR_Average_Speed       447 non-null    float64 \n",
      " 46  NR_Speed_Gain          471 non-null    float64 \n",
      " 47  NR_Terminal_Rate       483 non-null    float64 \n",
      " 48  NR_Register_Rate       476 non-null    float64 \n",
      " 49  NR_Function_Rate       476 non-null    float64 \n",
      " 50  NR_Fallback_Rate       475 non-null    float64 \n",
      " 51  I12_Samples            483 non-null    float64 \n",
      " 52  I12_Average_Speed      415 non-null    float64 \n",
      " 53  I12_Speed_Gain         415 non-null    float64 \n",
      " 54  I12_Terminal_Rate      476 non-null    float64 \n",
      " 55  I12_Register_Rate      415 non-null    float64 \n",
      " 56  I12_Function_Rate      468 non-null    float64 \n",
      " 57  I12_Fallback_Rate      405 non-null    float64 \n",
      "dtypes: float64(51), geometry(1), object(6)\n",
      "memory usage: 222.6+ KB\n"
     ]
    }
   ],
   "source": [
    "# convert to geo data by joining adm map\n",
    "col_st_pc_ter_merge_left = [\"NAME_1\", \"NAME_2\", \"NAME_3\", \"NAME_4\", \"posti_alue\"]\n",
    "col_st_pc_ter_merge_right = [\"NAME_1\", \"NAME_2\", \"NAME_3\", \"NAME_4\", \"posti_alue\"]\n",
    "\n",
    "data_st_pc_ter_geo = map_pc_helsinki.merge(\n",
    "    data_st_pc_ter_group,\n",
    "    left_on=col_st_pc_ter_merge_left,\n",
    "    right_on=col_st_pc_ter_merge_right,\n",
    ")\n",
    "\n",
    "data_st_pc_ter_geo.info()"
   ]
  },
  {
   "cell_type": "markdown",
   "id": "communist-carrier",
   "metadata": {},
   "source": [
    "### Spatial lag"
   ]
  },
  {
   "cell_type": "code",
   "execution_count": 17,
   "id": "adapted-membrane",
   "metadata": {},
   "outputs": [],
   "source": [
    "# spatial weight matrix\n",
    "col_st_pc_ter_tns = [\n",
    "    \"NR_Terminal_Rate\",\n",
    "    \"I12_Terminal_Rate\",\n",
    "    \"NR_Register_Rate\",\n",
    "    \"NR_Average_Speed\",\n",
    "    \"NR_Function_Rate\",\n",
    "]"
   ]
  },
  {
   "cell_type": "code",
   "execution_count": 18,
   "id": "egyptian-writer",
   "metadata": {},
   "outputs": [
    {
     "name": "stderr",
     "output_type": "stream",
     "text": [
      "D:\\ProgramData\\Anaconda3\\envs\\env_py38\\lib\\site-packages\\libpysal\\weights\\weights.py:172: UserWarning: The weights matrix is not fully connected: \n",
      " There are 6 disconnected components.\n",
      "  warnings.warn(message)\n"
     ]
    }
   ],
   "source": [
    "# spatial weight\n",
    "model_st_pc_ter_geo_weight = weights.Queen.from_dataframe(data_st_pc_ter_geo)\n",
    "model_st_pc_ter_geo_weight.transform = \"R\""
   ]
  },
  {
   "cell_type": "code",
   "execution_count": 19,
   "id": "likely-universe",
   "metadata": {},
   "outputs": [],
   "source": [
    "# spatial lag kpi\n",
    "for col in col_st_pc_ter_tns:\n",
    "    data_st_pc_ter_geo[col + \"_lag\"] = weights.lag_spatial(\n",
    "        model_st_pc_ter_geo_weight, data_st_pc_ter_geo[col]\n",
    "    )"
   ]
  },
  {
   "cell_type": "markdown",
   "id": "detailed-composer",
   "metadata": {},
   "source": [
    "### Calculate TNS"
   ]
  },
  {
   "cell_type": "code",
   "execution_count": 20,
   "id": "eleven-riding",
   "metadata": {},
   "outputs": [],
   "source": [
    "# kpi dict 1\n",
    "data_st_pc_ter_tns1_dict = {\n",
    "    \"TNS_T_lag\": [\"NR_Terminal_Rate_lag\", \"I12_Terminal_Rate_lag\"],\n",
    "    \"TNS_N_lag\": [\"NR_Register_Rate_lag\", \"NR_Average_Speed_lag\"],\n",
    "    \"TNS_S_lag\": [\"NR_Function_Rate_lag\"],\n",
    "}"
   ]
  },
  {
   "cell_type": "code",
   "execution_count": 21,
   "id": "democratic-investing",
   "metadata": {},
   "outputs": [
    {
     "name": "stdout",
     "output_type": "stream",
     "text": [
      "      I12_Terminal_Rate_lag  NR_Terminal_Rate_lag  NR_Function_Rate_lag  NR_Average_Speed_lag  NR_Register_Rate_lag\n",
      "0.00              23.000000              0.000000             49.200000            160.500000             14.200000\n",
      "0.25              30.000000             27.353571             76.000000            275.090909             41.217391\n",
      "0.50              35.142857             30.571429             78.882353            294.103448             48.470588\n",
      "0.75              41.000000             33.130252             81.235294            304.714286             54.785714\n",
      "1.00              60.400000             40.142857             88.727273            427.000000             63.272727\n"
     ]
    }
   ],
   "source": [
    "# kpi threshold 1\n",
    "print(data_st_pc_ter_geo[set(sum(data_st_pc_ter_tns1_dict.values(), []))].quantile(q=[0, .25, .5, .75, 1]))\n",
    "\n",
    "# auto\n",
    "# data_st_pc_ter_tns1_thd = data_st_pc_ter_geo[set(sum(data_st_pc_ter_tns1_dict.values(), []))].quantile(q=[.25])\n",
    "\n",
    "# mannual\n",
    "data_st_pc_ter_tns1_thd = pd.DataFrame({\n",
    "    'NR_Terminal_Rate_lag': [25],\n",
    "    'I12_Terminal_Rate_lag': [25],\n",
    "    'NR_Register_Rate_lag': [50],\n",
    "    'NR_Average_Speed_lag': [250],\n",
    "    'NR_Function_Rate_lag': [75],\n",
    "})"
   ]
  },
  {
   "cell_type": "code",
   "execution_count": 22,
   "id": "fallen-great",
   "metadata": {},
   "outputs": [],
   "source": [
    "# TNS kpi cat 1\n",
    "data_st_pc_ter_tns1_thd.index = [\"Ready\"]\n",
    "data_st_pc_ter_tns1_thd_default = \"Not Ready\""
   ]
  },
  {
   "cell_type": "code",
   "execution_count": 23,
   "id": "senior-rotation",
   "metadata": {},
   "outputs": [],
   "source": [
    "# TNS categorization 1\n",
    "data_st_pc_ter_tns = add_kpi_cat(\n",
    "    kpi_df=data_st_pc_ter_geo,\n",
    "    kpi_dict=data_st_pc_ter_tns1_dict,\n",
    "    kpi_thd=data_st_pc_ter_tns1_thd,\n",
    "    cat_default=data_st_pc_ter_tns1_thd_default,\n",
    ")"
   ]
  },
  {
   "cell_type": "code",
   "execution_count": 24,
   "id": "mental-third",
   "metadata": {},
   "outputs": [],
   "source": [
    "# kpi dict 2\n",
    "data_st_pc_ter_tns2_dict = {\n",
    "    \"TNS_TNS\": [\"TNS_T_lag\", \"TNS_N_lag\", \"TNS_S_lag\"],\n",
    "}"
   ]
  },
  {
   "cell_type": "code",
   "execution_count": 25,
   "id": "premium-signal",
   "metadata": {},
   "outputs": [],
   "source": [
    "# kpi threshold 2\n",
    "data_st_pc_ter_tns2_thd = pd.DataFrame(\n",
    "    {\n",
    "        \"TNS_T_lag\": [\"Ready\", \"Ready\", \"Ready\", \"*\"],\n",
    "        \"TNS_N_lag\": [\"Ready\", \"Ready\", \"*\", \"Ready\"],\n",
    "        \"TNS_S_lag\": [\"Ready\", \"*\", \"Ready\", \"Ready\"],\n",
    "    }\n",
    ")"
   ]
  },
  {
   "cell_type": "code",
   "execution_count": 26,
   "id": "efficient-question",
   "metadata": {},
   "outputs": [],
   "source": [
    "# TNS kpi cat 2\n",
    "data_st_pc_ter_tns2_thd.index = [\n",
    "    \"01 TNS Ready\",\n",
    "    \"02 TN Ready\",\n",
    "    \"03 TS Ready\",\n",
    "    \"04 NS Ready\",\n",
    "]\n",
    "data_st_pc_ter_tns2_thd_default = \"05 Not Ready\""
   ]
  },
  {
   "cell_type": "code",
   "execution_count": 27,
   "id": "different-revision",
   "metadata": {},
   "outputs": [],
   "source": [
    "# TNS categorization 2\n",
    "data_st_pc_ter_tns = add_kpi_cat(\n",
    "    kpi_df=data_st_pc_ter_tns,\n",
    "    kpi_dict=data_st_pc_ter_tns2_dict,\n",
    "    kpi_thd=data_st_pc_ter_tns2_thd,\n",
    "    cat_default=data_st_pc_ter_tns2_thd_default,\n",
    ")"
   ]
  },
  {
   "cell_type": "code",
   "execution_count": 28,
   "id": "loved-viking",
   "metadata": {},
   "outputs": [
    {
     "name": "stdout",
     "output_type": "stream",
     "text": [
      "01 TNS Ready    173\n",
      "03 TS Ready     163\n",
      "05 Not Ready    146\n",
      "02 TN Ready       1\n",
      "Name: TNS_TNS, dtype: int64\n"
     ]
    }
   ],
   "source": [
    "print(data_st_pc_ter_tns['TNS_TNS'].value_counts())"
   ]
  },
  {
   "cell_type": "markdown",
   "id": "hourly-description",
   "metadata": {},
   "source": [
    "### Visualize geo data"
   ]
  },
  {
   "cell_type": "code",
   "execution_count": 30,
   "id": "found-brick",
   "metadata": {},
   "outputs": [],
   "source": [
    "# initial parameter\n",
    "vis_output_path = r\"output\\ST_PostCode_Terminal_\"\n",
    "vis_dataset = data_st_pc_ter_tns\n",
    "vis_n_col = np.r_[: vis_dataset.shape[1]]\n",
    "vis_col_group = [\"NAME_1\", \"NAME_2\", \"NAME_3\", \"NAME_4\", \"posti_alue\"]\n",
    "vis_col_operator = \"operator_name\"\n",
    "vis_col_nr_sample = \"I12_Samples\"\n",
    "vis_filter_sample = 3\n",
    "vis_filter_operator = [\"DNA\", \"Elisa\", \"Telia\"]\n",
    "vis_col_list = [\n",
    "    \"NR_Samples\",\n",
    "    \"NR_Average_Speed\",\n",
    "    \"NR_Terminal_Rate\",\n",
    "    \"NR_Register_Rate\",\n",
    "    \"NR_Function_Rate\",\n",
    "    \"NR_Fallback_Rate\",\n",
    "    \"I12_Samples\",\n",
    "    \"I12_Average_Speed\",\n",
    "    \"I12_Terminal_Rate\",\n",
    "    \"I12_Register_Rate\",\n",
    "    \"I12_Function_Rate\",\n",
    "    \"I12_Fallback_Rate\",\n",
    "]\n",
    "vis_color_dict = {\"DNA\": \"deeppink\", \"Elisa\": \"darkblue\", \"Telia\": \"blueviolet\"}\n",
    "vis_layout = (2, 2)"
   ]
  },
  {
   "cell_type": "code",
   "execution_count": 31,
   "id": "neither-exercise",
   "metadata": {},
   "outputs": [],
   "source": [
    "# use for loop to create multiple layers\n",
    "for vis_col in vis_col_list:\n",
    "    vis_palette_n = palette_n_dict(\n",
    "        vis_dataset[vis_dataset[vis_col_nr_sample] > vis_filter_sample],\n",
    "        vis_col,\n",
    "        5,\n",
    "        0,\n",
    "        \"RdYlGn\",\n",
    "    )\n",
    "    layer_list = []\n",
    "    \n",
    "    # kpi layer\n",
    "    for vis_operator in vis_filter_operator:\n",
    "        vis_gdf = vis_dataset[\n",
    "            (vis_dataset[vis_col_operator] == vis_operator)\n",
    "            & (vis_dataset[vis_col_nr_sample] > vis_filter_sample)\n",
    "        ]\n",
    "        layer_list.append(dict(gdf=vis_gdf, col=vis_col, group_name=vis_operator))\n",
    "    \n",
    "    # competition layer\n",
    "    vis_gdf = vis_dataset.loc[\n",
    "        vis_dataset.groupby(vis_col_group)[vis_col].idxmax().dropna()\n",
    "    ]\n",
    "    layer_list.append(\n",
    "        dict(\n",
    "            gdf=vis_gdf[(vis_gdf[vis_col_nr_sample] > vis_filter_sample)],\n",
    "            col=vis_col_operator,\n",
    "            group_name=vis_col,\n",
    "            color_dict=vis_color_dict,\n",
    "        )\n",
    "    )\n",
    "    \n",
    "    # folium layout\n",
    "    m = folium_layout(\n",
    "        layer_list=layer_list,\n",
    "        layout=vis_layout,\n",
    "        palette_n=vis_palette_n,\n",
    "        n_col=vis_n_col,\n",
    "        groups=True,\n",
    "        legend=True,\n",
    "        weight=1,\n",
    "        opacity=0.9,\n",
    "        fill_opacity=1.0,\n",
    "        color=\"lightgrey\",\n",
    "    )\n",
    "    \n",
    "    # output\n",
    "    output_file = vis_output_path + vis_col + \".html\"\n",
    "    m.save(output_file)"
   ]
  },
  {
   "cell_type": "markdown",
   "id": "proved-fence",
   "metadata": {},
   "source": [
    "### Visualize TSN"
   ]
  },
  {
   "cell_type": "code",
   "execution_count": 33,
   "id": "olive-speaking",
   "metadata": {},
   "outputs": [],
   "source": [
    "# initial parameter\n",
    "vis_output_path = r\"output\\ST_PostCode_Terminal\"\n",
    "vis_col = \"TNS_TNS\"\n",
    "color_dict = {\n",
    "    \"01 TNS Ready\": \"Red\",\n",
    "    \"02 TN Ready\": \"Blue\",\n",
    "    \"03 TS Ready\": \"Green\",\n",
    "    \"04 NS Ready\": \"Orange\",\n",
    "    \"05 Not Ready\": \"Grey\",\n",
    "}\n",
    "vis_layout = (1, 3)"
   ]
  },
  {
   "cell_type": "code",
   "execution_count": 34,
   "id": "personalized-darwin",
   "metadata": {},
   "outputs": [],
   "source": [
    "# use for loop to create multiple layers\n",
    "layer_list = []\n",
    "for filter_operator in vis_filter_operator:\n",
    "    vis_gdf = vis_dataset[\n",
    "        (vis_dataset[vis_col_operator] == filter_operator)\n",
    "        & (vis_dataset[vis_col_nr_sample] > vis_filter_sample)\n",
    "    ]\n",
    "    layer_list.append(dict(gdf=vis_gdf, col=vis_col, group_name=filter_operator))\n",
    "# folium layout\n",
    "m = folium_layout(\n",
    "    layer_list=layer_list,\n",
    "    layout=vis_layout,\n",
    "    n_col=vis_n_col,\n",
    "    color_dict=color_dict,\n",
    "    weight=1,\n",
    "    opacity=0.8,\n",
    "    fill_opacity=0.6,\n",
    ")\n",
    "# output\n",
    "output_file = vis_output_path + vis_col + \".html\"\n",
    "m.save(output_file)"
   ]
  },
  {
   "cell_type": "markdown",
   "id": "sealed-timer",
   "metadata": {},
   "source": [
    "## ST PC VALUE"
   ]
  },
  {
   "cell_type": "markdown",
   "id": "little-shepherd",
   "metadata": {},
   "source": [
    "### Import Data"
   ]
  },
  {
   "cell_type": "code",
   "execution_count": 35,
   "id": "funky-consent",
   "metadata": {},
   "outputs": [],
   "source": [
    "# path and import\n",
    "data_value_pc_path = 'data/Finland_PostCode_Info.csv'\n",
    "data_value_pc_raw = pd.read_csv(data_value_pc_path)\n",
    "\n",
    "# convert postcode format from int to str\n",
    "data_value_pc_raw['PostCode'] = data_value_pc_raw['PostCode'].map(lambda x: str(x).zfill(5))"
   ]
  },
  {
   "cell_type": "markdown",
   "id": "applicable-china",
   "metadata": {},
   "source": [
    "### Convert to gdf"
   ]
  },
  {
   "cell_type": "code",
   "execution_count": 36,
   "id": "bacterial-capital",
   "metadata": {},
   "outputs": [],
   "source": [
    "# merge data to gdf\n",
    "col_value_pc_merge_left = [\"NAME_1\", \"NAME_2\", \"NAME_3\", \"NAME_4\", \"posti_alue\"]\n",
    "col_value_pc_merge_right = [\"NAME_1\", \"NAME_2\", \"NAME_3\", \"NAME_4\", \"PostCode\"]\n",
    "map_value_pc_geo = map_pc_geo.merge(\n",
    "    data_value_pc_raw,\n",
    "    left_on=col_value_pc_merge_left,\n",
    "    right_on=col_value_pc_merge_right,\n",
    ")"
   ]
  },
  {
   "cell_type": "code",
   "execution_count": 37,
   "id": "average-history",
   "metadata": {},
   "outputs": [],
   "source": [
    "# Helsinki center pc value map\n",
    "map_value_pc_helsinki = map_value_pc_geo.query(\n",
    "    \"NAME_4 in @filter_map_adm_helsinki\"\n",
    ").reset_index(drop=True)"
   ]
  },
  {
   "cell_type": "markdown",
   "id": "necessary-blend",
   "metadata": {},
   "source": [
    "### Calculate KPI"
   ]
  },
  {
   "cell_type": "code",
   "execution_count": 38,
   "id": "greek-begin",
   "metadata": {},
   "outputs": [],
   "source": [
    "# kpi dict\n",
    "data_value_pc_dict = {\n",
    "    \"2c_value\": [\"Inhabitants_Density\", \"Average_income\"],\n",
    "    \"2b_value\": [\"Enterprise_Density\"],\n",
    "    \"2h_value\": [\"Building_Density\", \"Average_income\"],\n",
    "}"
   ]
  },
  {
   "cell_type": "code",
   "execution_count": 39,
   "id": "peripheral-debate",
   "metadata": {},
   "outputs": [
    {
     "name": "stdout",
     "output_type": "stream",
     "text": [
      "      Inhabitants_Density  Enterprise_Density  Building_Density  Average_income\n",
      "0.00                  0.0                 0.0               0.0            0.00\n",
      "0.25                  2.0                 0.0               2.0        21761.75\n",
      "0.50                  7.0                 1.0               5.0        23545.50\n",
      "0.75                 46.0                14.0              20.0        25694.25\n",
      "1.00              20988.0             43514.0             607.0        74943.00\n"
     ]
    }
   ],
   "source": [
    "# kpi threshold\n",
    "print(map_value_pc_geo[set(sum(data_value_pc_dict.values(), []))].quantile(q=[0, .25, .5, .75, 1]))\n",
    "\n",
    "# auto\n",
    "data_value_pc_thd = map_value_pc_geo[set(sum(data_value_pc_dict.values(), []))].quantile(q=[.75, .5])\n",
    "\n",
    "# manual\n",
    "# data_value_pc_thd = pd.DataFrame({'Inhabitants_Density': [50, 10],\n",
    "#                                   'Average_income': [25000, 20000],\n",
    "#                                   'Enterprise_Density': [15, 1],\n",
    "#                                   'Building_Density': [20, 5],\n",
    "#                                   })"
   ]
  },
  {
   "cell_type": "code",
   "execution_count": 40,
   "id": "south-soviet",
   "metadata": {},
   "outputs": [],
   "source": [
    "# kpi cat\n",
    "data_value_pc_thd.index = ['High', 'Medium']\n",
    "data_value_pc_thd_default = 'Low'"
   ]
  },
  {
   "cell_type": "code",
   "execution_count": 42,
   "id": "banner-bouquet",
   "metadata": {},
   "outputs": [],
   "source": [
    "# categorization\n",
    "data_value_pc_kpi = add_kpi_cat(\n",
    "    kpi_df=map_value_pc_geo,\n",
    "    kpi_dict=data_value_pc_dict,\n",
    "    kpi_thd=data_value_pc_thd,\n",
    "    cat_default=data_value_pc_thd_default,\n",
    ")"
   ]
  },
  {
   "cell_type": "code",
   "execution_count": 43,
   "id": "considerable-vancouver",
   "metadata": {},
   "outputs": [
    {
     "data": {
      "text/plain": [
       "Low       1849\n",
       "Medium     736\n",
       "High       344\n",
       "Name: 2c_value, dtype: int64"
      ]
     },
     "execution_count": 43,
     "metadata": {},
     "output_type": "execute_result"
    }
   ],
   "source": [
    "data_value_pc_kpi[\"2c_value\"].value_counts()"
   ]
  },
  {
   "cell_type": "markdown",
   "id": "chubby-sheffield",
   "metadata": {},
   "source": [
    "### Visualize geo data"
   ]
  },
  {
   "cell_type": "code",
   "execution_count": 55,
   "id": "exclusive-assumption",
   "metadata": {},
   "outputs": [],
   "source": [
    "# initial parameter\n",
    "vis_output_path = r\"output\\ST_PostCode_Value_\"\n",
    "vis_gdf_left = data_st_pc_ter_geo\n",
    "vis_gdf_left_col_group = [\"NAME_1\", \"NAME_2\", \"NAME_3\", \"NAME_4\", \"posti_alue\"]\n",
    "vis_gdf_left_col = \"NR_Average_Speed\"\n",
    "vis_gdf_left_col_nr_sample = \"I12_Samples\"\n",
    "vis_gdf_left_filter_sample = 3\n",
    "vis_gdf_left_col_operator = \"operator_name\"\n",
    "\n",
    "vis_gdf_right = data_value_pc_kpi\n",
    "vis_gdf_right_col = \"2c_value\""
   ]
  },
  {
   "cell_type": "code",
   "execution_count": 61,
   "id": "rising-overall",
   "metadata": {},
   "outputs": [
    {
     "data": {
      "text/plain": [
       "348.0      DNA\n",
       "351.0      DNA\n",
       "357.0      DNA\n",
       "362.0    Telia\n",
       "363.0      DNA\n",
       "         ...  \n",
       "319.0    Elisa\n",
       "324.0      DNA\n",
       "334.0    Elisa\n",
       "336.0      DNA\n",
       "340.0    Elisa\n",
       "Name: operator_name, Length: 110, dtype: object"
      ]
     },
     "execution_count": 61,
     "metadata": {},
     "output_type": "execute_result"
    }
   ],
   "source": [
    "gdf_left[\n",
    "            (gdf_left[vis_gdf_left_col_nr_sample] > vis_gdf_left_filter_sample)\n",
    "        ][vis_gdf_left_col_operator]"
   ]
  },
  {
   "cell_type": "code",
   "execution_count": 62,
   "id": "outstanding-jewelry",
   "metadata": {},
   "outputs": [],
   "source": [
    "layer_list = []\n",
    "# competition layer\n",
    "gdf_left = vis_gdf_left.loc[\n",
    "    vis_gdf_left.groupby(vis_gdf_left_col_group)[vis_gdf_left_col].idxmax().dropna()\n",
    "]\n",
    "layer_list.append(\n",
    "    dict(\n",
    "        gdf=gdf_left[\n",
    "            (gdf_left[vis_gdf_left_col_nr_sample] > vis_gdf_left_filter_sample)\n",
    "        ],\n",
    "        col=vis_gdf_left_col_operator,\n",
    "        group_name=vis_gdf_left_col,\n",
    "        color_dict={\"DNA\": \"deeppink\", \"Elisa\": \"darkblue\", \"Telia\": \"blueviolet\"},\n",
    "    )\n",
    ")\n",
    "# value_layer\n",
    "layer_list.append(\n",
    "    dict(\n",
    "        gdf=vis_gdf_right,\n",
    "        col=vis_gdf_right_col,\n",
    "        color_dict={\"High\": \"Red\", \"Medium\": \"Orange\", \"Low\": \"Green\"},\n",
    "    )\n",
    ")\n",
    "\n",
    "m = folium_layout(\n",
    "    layer_list=layer_list,\n",
    "    layout=(1, 2),\n",
    "    weight=1,\n",
    "    opacity=0.9,\n",
    "    fill_opacity=1.0,\n",
    "    color=\"lightgrey\",\n",
    ")\n",
    "# output\n",
    "output_file = vis_output_path + vis_gdf_right_col + \".html\"\n",
    "m.save(output_file)"
   ]
  },
  {
   "cell_type": "code",
   "execution_count": null,
   "id": "banner-martin",
   "metadata": {},
   "outputs": [],
   "source": []
  }
 ],
 "metadata": {
  "kernelspec": {
   "display_name": "env_py38",
   "language": "python",
   "name": "env_py38"
  },
  "language_info": {
   "codemirror_mode": {
    "name": "ipython",
    "version": 3
   },
   "file_extension": ".py",
   "mimetype": "text/x-python",
   "name": "python",
   "nbconvert_exporter": "python",
   "pygments_lexer": "ipython3",
   "version": "3.8.8"
  }
 },
 "nbformat": 4,
 "nbformat_minor": 5
}
