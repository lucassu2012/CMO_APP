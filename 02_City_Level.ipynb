{
 "cells": [
  {
   "cell_type": "code",
   "execution_count": 1,
   "id": "assigned-selection",
   "metadata": {},
   "outputs": [],
   "source": [
    "import numpy as np\n",
    "import pandas as pd\n",
    "import geopandas as gpd\n",
    "import matplotlib.pyplot as plt\n",
    "import os"
   ]
  },
  {
   "cell_type": "code",
   "execution_count": 2,
   "id": "junior-sitting",
   "metadata": {},
   "outputs": [],
   "source": [
    "from FoliumPlot import folium_plot, folium_layout\n",
    "from Functions import *"
   ]
  },
  {
   "cell_type": "markdown",
   "id": "psychological-strike",
   "metadata": {},
   "source": [
    "## ST CITY PERFORMANCE"
   ]
  },
  {
   "cell_type": "markdown",
   "id": "vertical-stephen",
   "metadata": {},
   "source": [
    "### administrative map"
   ]
  },
  {
   "cell_type": "code",
   "execution_count": 3,
   "id": "organizational-vintage",
   "metadata": {},
   "outputs": [],
   "source": [
    "# map path and layer path\n",
    "map_adm_path = \"map/gadm36_FIN_shp.zip\"\n",
    "map_adm_city_layer = \"gadm36_FIN_3.shp\""
   ]
  },
  {
   "cell_type": "code",
   "execution_count": 4,
   "id": "sitting-paste",
   "metadata": {},
   "outputs": [],
   "source": [
    "# import and filter\n",
    "filter_col_map_adm = ['NAME_1', 'NAME_2', 'NAME_3', 'NAME_4', 'geometry']\n",
    "map_adm_city = gpd.read_file(\"zip://./\" + map_adm_path + '!/' + map_adm_city_layer).filter(filter_col_map_adm)"
   ]
  },
  {
   "cell_type": "markdown",
   "id": "explicit-skiing",
   "metadata": {},
   "source": [
    "### Import Data"
   ]
  },
  {
   "cell_type": "code",
   "execution_count": 7,
   "id": "defensive-anger",
   "metadata": {},
   "outputs": [
    {
     "name": "stdout",
     "output_type": "stream",
     "text": [
      "<class 'pandas.core.frame.DataFrame'>\n",
      "RangeIndex: 3373 entries, 0 to 3372\n",
      "Data columns (total 30 columns):\n",
      " #   Column              Non-Null Count  Dtype  \n",
      "---  ------              --------------  -----  \n",
      " 0   date_year           3373 non-null   int64  \n",
      " 1   date_month          3373 non-null   int64  \n",
      " 2   country_iso         3373 non-null   object \n",
      " 3   client_region_name  3373 non-null   object \n",
      " 4   client_city_name    3373 non-null   object \n",
      " 5   operator_name       3373 non-null   object \n",
      " 6   device_count_all    3373 non-null   int64  \n",
      " 7   sample_origin_all   3373 non-null   int64  \n",
      " 8   sample_count_all    3373 non-null   int64  \n",
      " 9   device_count_4g     3369 non-null   float64\n",
      " 10  sample_origin_4g    3369 non-null   float64\n",
      " 11  sample_count_4g     3369 non-null   float64\n",
      " 12  device_count_5g     1712 non-null   float64\n",
      " 13  sample_origin_5g    1712 non-null   float64\n",
      " 14  sample_count_5g     1712 non-null   float64\n",
      " 15  mid_dl_all          3373 non-null   float64\n",
      " 16  mid_ul_all          3372 non-null   float64\n",
      " 17  mid_dl_4g           3369 non-null   float64\n",
      " 18  mid_ul_4g           3369 non-null   float64\n",
      " 19  mid_dl_5g           1712 non-null   float64\n",
      " 20  mid_ul_5g           1711 non-null   float64\n",
      " 21  latency_all         3373 non-null   float64\n",
      " 22  avg_rsrp_rscp_all   3339 non-null   float64\n",
      " 23  avg_snr_all         3296 non-null   float64\n",
      " 24  latency_4g          3369 non-null   float64\n",
      " 25  avg_rsrp_rscp_4g    3338 non-null   float64\n",
      " 26  avg_snr_4g          3295 non-null   float64\n",
      " 27  latency_5g          1712 non-null   float64\n",
      " 28  avg_rsrp_rscp_5g    748 non-null    float64\n",
      " 29  avg_snr_5g          750 non-null    float64\n",
      "dtypes: float64(21), int64(5), object(4)\n",
      "memory usage: 790.7+ KB\n"
     ]
    }
   ],
   "source": [
    "# path and import\n",
    "data_st_city_per_path = 'data/st/01_data_st_per_city.csv'\n",
    "data_st_city_per_raw = pd.read_csv(data_st_city_per_path, na_values=[0])\n",
    "\n",
    "data_st_city_per_raw.info()"
   ]
  },
  {
   "cell_type": "markdown",
   "id": "faced-diabetes",
   "metadata": {},
   "source": [
    "### Aggregate Data"
   ]
  },
  {
   "cell_type": "code",
   "execution_count": 8,
   "id": "waiting-inspector",
   "metadata": {},
   "outputs": [],
   "source": [
    "# initial parameters\n",
    "filter_st_city_per_year = 2020\n",
    "filter_st_city_per_month = 1\n",
    "filter_st_city_per_operators = [\"DNA\", \"Elisa\", \"Telia\"]\n",
    "col_st_city_per_year = \"date_year\"\n",
    "col_st_city_per_month = \"date_month\"\n",
    "col_st_city_per_operator = \"operator_name\"\n",
    "col_st_city_per_group = [\"client_region_name\", \"client_city_name\"]\n",
    "col_st_city_per_sum = [\n",
    "    \"device_count_4g\",\n",
    "    \"sample_origin_4g\",\n",
    "    \"sample_count_4g\",\n",
    "    \"device_count_5g\",\n",
    "    \"sample_origin_5g\",\n",
    "    \"sample_count_5g\",\n",
    "]\n",
    "col_st_city_per_mean = [\n",
    "    \"mid_dl_4g\",\n",
    "    \"mid_ul_4g\",\n",
    "    \"latency_4g\",\n",
    "    \"avg_rsrp_rscp_4g\",\n",
    "    \"avg_snr_4g\",\n",
    "    \"mid_dl_5g\",\n",
    "    \"mid_ul_5g\",\n",
    "    \"latency_5g\",\n",
    "    \"avg_rsrp_rscp_5g\",\n",
    "    \"avg_snr_5g\",\n",
    "]\n",
    "col_st_city_per_share = [_ + \"_pct\" for _ in col_st_city_per_sum + col_st_city_per_mean]"
   ]
  },
  {
   "cell_type": "code",
   "execution_count": 9,
   "id": "revised-specialist",
   "metadata": {},
   "outputs": [
    {
     "name": "stdout",
     "output_type": "stream",
     "text": [
      "<class 'pandas.core.frame.DataFrame'>\n",
      "RangeIndex: 237 entries, 0 to 236\n",
      "Data columns (total 19 columns):\n",
      " #   Column              Non-Null Count  Dtype  \n",
      "---  ------              --------------  -----  \n",
      " 0   client_region_name  237 non-null    object \n",
      " 1   client_city_name    237 non-null    object \n",
      " 2   operator_name       237 non-null    object \n",
      " 3   device_count_4g     237 non-null    float64\n",
      " 4   sample_origin_4g    237 non-null    float64\n",
      " 5   sample_count_4g     237 non-null    float64\n",
      " 6   device_count_5g     222 non-null    float64\n",
      " 7   sample_origin_5g    222 non-null    float64\n",
      " 8   sample_count_5g     222 non-null    float64\n",
      " 9   mid_dl_4g           237 non-null    float64\n",
      " 10  mid_ul_4g           237 non-null    float64\n",
      " 11  latency_4g          237 non-null    float64\n",
      " 12  avg_rsrp_rscp_4g    237 non-null    float64\n",
      " 13  avg_snr_4g          237 non-null    float64\n",
      " 14  mid_dl_5g           222 non-null    float64\n",
      " 15  mid_ul_5g           222 non-null    float64\n",
      " 16  latency_5g          222 non-null    float64\n",
      " 17  avg_rsrp_rscp_5g    112 non-null    float64\n",
      " 18  avg_snr_5g          125 non-null    float64\n",
      "dtypes: float64(16), object(3)\n",
      "memory usage: 35.3+ KB\n"
     ]
    }
   ],
   "source": [
    "# group calculation\n",
    "data_st_city_per_group = (\n",
    "    data_st_city_per_raw.query(\n",
    "        \"{} * 12 + {} >= @filter_st_city_per_year * 12 + @filter_st_city_per_month\".format(\n",
    "            col_st_city_per_year, col_st_city_per_month\n",
    "        )\n",
    "    )\n",
    "    .query(\"{} in @filter_st_city_per_operators\".format(col_st_city_per_operator))\n",
    "    .groupby(col_st_city_per_group + [col_st_city_per_operator])\n",
    "    .agg(\n",
    "        {\n",
    "            **{kpi: np.sum for kpi in col_st_city_per_sum},\n",
    "            **{kpi: np.mean for kpi in col_st_city_per_mean},\n",
    "        }\n",
    "    )\n",
    "    .reset_index()\n",
    "    .replace(0, np.nan)\n",
    ")\n",
    "\n",
    "data_st_city_per_group.info()"
   ]
  },
  {
   "cell_type": "markdown",
   "id": "removable-fortune",
   "metadata": {},
   "source": [
    "### Calculate KPI"
   ]
  },
  {
   "cell_type": "code",
   "execution_count": 10,
   "id": "bizarre-bermuda",
   "metadata": {},
   "outputs": [],
   "source": [
    "# calculate market share kpi\n",
    "data_st_city_per_group[\n",
    "    [_ + \"_pct\" for _ in col_st_city_per_sum]\n",
    "] = data_st_city_per_group.groupby(col_st_city_per_group)[\n",
    "    col_st_city_per_sum\n",
    "].transform(\n",
    "    lambda x: round(x / np.sum(x), 2)\n",
    ")"
   ]
  },
  {
   "cell_type": "code",
   "execution_count": 11,
   "id": "resident-action",
   "metadata": {},
   "outputs": [],
   "source": [
    "# normalize performance kpi\n",
    "data_st_city_per_group[\n",
    "    [_ + \"_pct\" for _ in col_st_city_per_mean]\n",
    "] = data_st_city_per_group.groupby(col_st_city_per_group)[\n",
    "    col_st_city_per_mean\n",
    "].transform(\n",
    "    lambda x: np.round((x - x.min()) / (x.max() - x.min()), 2)\n",
    ")"
   ]
  },
  {
   "cell_type": "code",
   "execution_count": 12,
   "id": "rental-acting",
   "metadata": {},
   "outputs": [
    {
     "name": "stdout",
     "output_type": "stream",
     "text": [
      "<class 'pandas.core.frame.DataFrame'>\n",
      "RangeIndex: 237 entries, 0 to 236\n",
      "Data columns (total 35 columns):\n",
      " #   Column                Non-Null Count  Dtype  \n",
      "---  ------                --------------  -----  \n",
      " 0   client_region_name    237 non-null    object \n",
      " 1   client_city_name      237 non-null    object \n",
      " 2   operator_name         237 non-null    object \n",
      " 3   device_count_4g       237 non-null    float64\n",
      " 4   sample_origin_4g      237 non-null    float64\n",
      " 5   sample_count_4g       237 non-null    float64\n",
      " 6   device_count_5g       222 non-null    float64\n",
      " 7   sample_origin_5g      222 non-null    float64\n",
      " 8   sample_count_5g       222 non-null    float64\n",
      " 9   mid_dl_4g             237 non-null    float64\n",
      " 10  mid_ul_4g             237 non-null    float64\n",
      " 11  latency_4g            237 non-null    float64\n",
      " 12  avg_rsrp_rscp_4g      237 non-null    float64\n",
      " 13  avg_snr_4g            237 non-null    float64\n",
      " 14  mid_dl_5g             222 non-null    float64\n",
      " 15  mid_ul_5g             222 non-null    float64\n",
      " 16  latency_5g            222 non-null    float64\n",
      " 17  avg_rsrp_rscp_5g      112 non-null    float64\n",
      " 18  avg_snr_5g            125 non-null    float64\n",
      " 19  device_count_4g_pct   237 non-null    float64\n",
      " 20  sample_origin_4g_pct  237 non-null    float64\n",
      " 21  sample_count_4g_pct   237 non-null    float64\n",
      " 22  device_count_5g_pct   222 non-null    float64\n",
      " 23  sample_origin_5g_pct  222 non-null    float64\n",
      " 24  sample_count_5g_pct   222 non-null    float64\n",
      " 25  mid_dl_4g_pct         237 non-null    float64\n",
      " 26  mid_ul_4g_pct         237 non-null    float64\n",
      " 27  latency_4g_pct        237 non-null    float64\n",
      " 28  avg_rsrp_rscp_4g_pct  237 non-null    float64\n",
      " 29  avg_snr_4g_pct        237 non-null    float64\n",
      " 30  mid_dl_5g_pct         221 non-null    float64\n",
      " 31  mid_ul_5g_pct         221 non-null    float64\n",
      " 32  latency_5g_pct        221 non-null    float64\n",
      " 33  avg_rsrp_rscp_5g_pct  89 non-null     float64\n",
      " 34  avg_snr_5g_pct        106 non-null    float64\n",
      "dtypes: float64(32), object(3)\n",
      "memory usage: 64.9+ KB\n"
     ]
    }
   ],
   "source": [
    "data_st_city_per_group.info()"
   ]
  },
  {
   "cell_type": "markdown",
   "id": "partial-inclusion",
   "metadata": {},
   "source": [
    "### Convert to gdf"
   ]
  },
  {
   "cell_type": "code",
   "execution_count": 13,
   "id": "streaming-teddy",
   "metadata": {},
   "outputs": [],
   "source": [
    "# convert to geo data by joining adm map\n",
    "col_st_city_per_merge_left = [\"NAME_2\", \"NAME_3\"]\n",
    "col_st_city_per_merge_right = [\"client_region_name\", \"client_city_name\"]\n",
    "\n",
    "data_st_city_per_geo = map_adm_city.merge(\n",
    "    data_st_city_per_group,\n",
    "    left_on=col_st_city_per_merge_left,\n",
    "    right_on=col_st_city_per_merge_right,\n",
    ")\n",
    "data_st_city_per_geo.info()"
   ]
  },
  {
   "cell_type": "code",
   "execution_count": 14,
   "id": "velvet-malaysia",
   "metadata": {},
   "outputs": [
    {
     "name": "stderr",
     "output_type": "stream",
     "text": [
      "<ipython-input-14-f29521ae73ba>:3: UserWarning: Column names longer than 10 characters will be truncated when saved to ESRI Shapefile.\n",
      "  data_st_city_per_geo.to_file(output_gdf_path)\n"
     ]
    }
   ],
   "source": [
    "# save gdf data\n",
    "output_gdf_path = \"data/st/data_st_city_per_geo\"\n",
    "data_st_city_per_geo.to_file(output_gdf_path)"
   ]
  },
  {
   "cell_type": "code",
   "execution_count": 15,
   "id": "selected-publication",
   "metadata": {},
   "outputs": [],
   "source": [
    "# save gdf column name\n",
    "output_col_name_path = \"data/st/data_st_city_per_geo/col_name.csv\"\n",
    "pd.DataFrame(data_st_city_per_geo.drop(\"geometry\", axis=1).columns).to_csv(\n",
    "    output_col_name_path, index=False\n",
    ")"
   ]
  },
  {
   "cell_type": "markdown",
   "id": "multiple-hospital",
   "metadata": {},
   "source": [
    "### Visualize geo data"
   ]
  },
  {
   "cell_type": "code",
   "execution_count": 17,
   "id": "israeli-corrections",
   "metadata": {},
   "outputs": [],
   "source": [
    "# initial parameter\n",
    "vis_output_path = r\"output\\ST_City_Performance_\"\n",
    "vis_dataset = data_st_city_per_geo\n",
    "vis_n_col = np.r_[: vis_dataset.shape[1]]\n",
    "vis_col_group = [\"client_region_name\", \"client_city_name\"]\n",
    "vis_col_operator = \"operator_name\"\n",
    "vis_filter_operator = [\"DNA\", \"Elisa\", \"Telia\"]\n",
    "vis_col_list = [\n",
    "    \"mid_dl_4g\",\n",
    "    \"mid_ul_4g\",\n",
    "    \"avg_rsrp_rscp_4g\",\n",
    "    \"mid_dl_5g\",\n",
    "    \"mid_ul_5g\",\n",
    "    \"avg_rsrp_rscp_5g\",\n",
    "    \"device_count_4g_pct\",\n",
    "    \"device_count_5g_pct\",\n",
    "]\n",
    "vis_color_dict = {\"DNA\": \"deeppink\", \"Elisa\": \"darkblue\", \"Telia\": \"blueviolet\"}\n",
    "vis_layout = (1, len(vis_filter_operator) + 1)"
   ]
  },
  {
   "cell_type": "code",
   "execution_count": 19,
   "id": "impaired-cheat",
   "metadata": {},
   "outputs": [],
   "source": [
    "# use for loop to create multiple layers\n",
    "for vis_col in vis_col_list:\n",
    "    vis_palette_n = palette_n_dict(vis_dataset, vis_col, 5, 2, \"RdYlGn\")\n",
    "    layer_list = []\n",
    "    # kpi layer\n",
    "    for vis_operator in vis_filter_operator:\n",
    "        vis_gdf = vis_dataset[(vis_dataset[vis_col_operator] == vis_operator)]\n",
    "        layer_list.append(dict(gdf=vis_gdf, col=vis_col, group_name=vis_operator))\n",
    "    # competition layer\n",
    "    if \"_pct\" in vis_col:\n",
    "        vis_gdf = vis_dataset.loc[\n",
    "            vis_dataset.groupby(vis_col_group)[vis_col].idxmax().dropna()\n",
    "        ]\n",
    "    else:\n",
    "        vis_gdf = vis_dataset.query(\"{} == 1\".format(vis_col + \"_pct\"))\n",
    "    layer_list.append(\n",
    "        dict(gdf=vis_gdf, col=vis_col_operator, color_dict=vis_color_dict)\n",
    "    )\n",
    "    # folium layout\n",
    "    m = folium_layout(\n",
    "        layer_list=layer_list,\n",
    "        layout=vis_layout,\n",
    "        palette_n=vis_palette_n,\n",
    "        n_col=vis_n_col,\n",
    "        groups=True,\n",
    "        legend=True,\n",
    "        weight=1,\n",
    "        opacity=0.9,\n",
    "        fill_opacity=1.0,\n",
    "        color=\"lightgrey\",\n",
    "    )\n",
    "    # output\n",
    "    output_file = vis_output_path + vis_col + \".html\"\n",
    "    m.save(output_file)"
   ]
  },
  {
   "cell_type": "markdown",
   "id": "modified-apparel",
   "metadata": {},
   "source": [
    "## ST CITY TERMINAL"
   ]
  },
  {
   "cell_type": "markdown",
   "id": "metallic-amazon",
   "metadata": {},
   "source": [
    "### Import Data"
   ]
  },
  {
   "cell_type": "code",
   "execution_count": 21,
   "id": "available-mailing",
   "metadata": {},
   "outputs": [
    {
     "name": "stdout",
     "output_type": "stream",
     "text": [
      "<class 'pandas.core.frame.DataFrame'>\n",
      "RangeIndex: 282 entries, 0 to 281\n",
      "Data columns (total 35 columns):\n",
      " #   Column                 Non-Null Count  Dtype  \n",
      "---  ------                 --------------  -----  \n",
      " 0   area_level1_name       282 non-null    object \n",
      " 1   area_level2_name       282 non-null    object \n",
      " 2   operator_name          282 non-null    object \n",
      " 3   sample_origin_4g_ios   249 non-null    float64\n",
      " 4   sample_count_4g_ios    249 non-null    float64\n",
      " 5   device_count_4g_ios    249 non-null    float64\n",
      " 6   avg_dl_4g_ios          249 non-null    float64\n",
      " 7   sample_origin_4g_ad    253 non-null    float64\n",
      " 8   sample_count_4g_ad     253 non-null    float64\n",
      " 9   device_count_4g_ad     253 non-null    float64\n",
      " 10  avg_dl_4g_ad           252 non-null    float64\n",
      " 11  sample_origin_ip12_5g  101 non-null    float64\n",
      " 12  sample_count_ip12_5g   101 non-null    float64\n",
      " 13  device_count_ip12_5g   101 non-null    float64\n",
      " 14  avg_dl_ip12_5g         101 non-null    float64\n",
      " 15  sample_origin_ip12_fb  203 non-null    float64\n",
      " 16  sample_count_ip12_fb   203 non-null    float64\n",
      " 17  device_count_ip12_fb   203 non-null    float64\n",
      " 18  avg_dl_ip12_fb         203 non-null    float64\n",
      " 19  sample_origin_ip12_lk  231 non-null    float64\n",
      " 20  sample_count_ip12_lk   231 non-null    float64\n",
      " 21  device_count_ip12_lk   231 non-null    float64\n",
      " 22  avg_dl_ip12_lk         231 non-null    float64\n",
      " 23  sample_origin_ad_5g    210 non-null    float64\n",
      " 24  sample_count_ad_5g     210 non-null    float64\n",
      " 25  device_count_ad_5g     210 non-null    float64\n",
      " 26  avg_dl_ad_5g           210 non-null    float64\n",
      " 27  sample_origin_ad_fb    231 non-null    float64\n",
      " 28  sample_count_ad_fb     231 non-null    float64\n",
      " 29  device_count_ad_fb     231 non-null    float64\n",
      " 30  avg_dl_ad_fb           231 non-null    float64\n",
      " 31  sample_origin_ad_lk    241 non-null    float64\n",
      " 32  sample_count_ad_lk     241 non-null    float64\n",
      " 33  device_count_ad_lk     241 non-null    float64\n",
      " 34  avg_dl_ad_lk           241 non-null    float64\n",
      "dtypes: float64(32), object(3)\n",
      "memory usage: 77.2+ KB\n"
     ]
    }
   ],
   "source": [
    "# path and import\n",
    "data_st_city_ter_path = 'data/st/02_data_st_ter_city_3m.csv'\n",
    "data_st_city_ter_raw = pd.read_csv(data_st_city_ter_path, na_values=[0])\n",
    "\n",
    "data_st_city_ter_raw.info()"
   ]
  },
  {
   "cell_type": "markdown",
   "id": "common-picnic",
   "metadata": {},
   "source": [
    "### Aggregate Data"
   ]
  },
  {
   "cell_type": "code",
   "execution_count": 22,
   "id": "happy-bleeding",
   "metadata": {},
   "outputs": [],
   "source": [
    "# initial parameters\n",
    "filter_st_city_ter_reg = \"device_count\"\n",
    "filter_st_city_ter_operators = [\"DNA\", \"Elisa\", \"Telia\"]\n",
    "filter_st_city_ter_regex = \"device_count\"\n",
    "col_st_city_ter_operator = \"operator_name\"\n",
    "col_st_city_ter_group = [\"area_level1_name\", \"area_level2_name\"]\n",
    "col_st_city_ter_kpi = [\n",
    "    \"LTE_Average_Speed\",\n",
    "    \"NR_Samples\",\n",
    "    \"NR_Average_Speed\",\n",
    "    \"NR_Speed_Gain\",\n",
    "    \"NR_Terminal_Rate\",\n",
    "    \"NR_Register_Rate\",\n",
    "    \"NR_Function_Rate\",\n",
    "    \"NR_Fallback_Rate\",\n",
    "    \"I12_Samples\",\n",
    "    \"I12_Average_Speed\",\n",
    "    \"I12_Speed_Gain\",\n",
    "    \"I12_Terminal_Rate\",\n",
    "    \"I12_Register_Rate\",\n",
    "    \"I12_Function_Rate\",\n",
    "    \"I12_Fallback_Rate\",\n",
    "]\n",
    "col_st_city_ter_function = [\n",
    "    cal_4g_average_speed,\n",
    "    cal_nr_total_samples,\n",
    "    cal_nr_average_speed,\n",
    "    cal_nr_speed_gain_ratio,\n",
    "    cal_nr_terminal_ratio,\n",
    "    cal_nr_register_ratio,\n",
    "    cal_nr_function_ratio,\n",
    "    cal_nr_fallback_ratio,\n",
    "    cal_ip12_total_samples,\n",
    "    cal_ip12_average_speed,\n",
    "    cal_ip12_speed_gain_ratio,\n",
    "    cal_ip12_terminal_ratio,\n",
    "    cal_ip12_register_ratio,\n",
    "    cal_ip12_function_ratio,\n",
    "    cal_ip12_fallback_ratio,\n",
    "]"
   ]
  },
  {
   "cell_type": "code",
   "execution_count": 23,
   "id": "drawn-farming",
   "metadata": {},
   "outputs": [
    {
     "name": "stdout",
     "output_type": "stream",
     "text": [
      "<class 'pandas.core.frame.DataFrame'>\n",
      "Int64Index: 243 entries, 0 to 281\n",
      "Data columns (total 35 columns):\n",
      " #   Column                 Non-Null Count  Dtype  \n",
      "---  ------                 --------------  -----  \n",
      " 0   area_level1_name       243 non-null    object \n",
      " 1   area_level2_name       243 non-null    object \n",
      " 2   operator_name          243 non-null    object \n",
      " 3   sample_origin_4g_ios   239 non-null    float64\n",
      " 4   sample_count_4g_ios    239 non-null    float64\n",
      " 5   device_count_4g_ios    239 non-null    float64\n",
      " 6   avg_dl_4g_ios          239 non-null    float64\n",
      " 7   sample_origin_4g_ad    237 non-null    float64\n",
      " 8   sample_count_4g_ad     237 non-null    float64\n",
      " 9   device_count_4g_ad     237 non-null    float64\n",
      " 10  avg_dl_4g_ad           237 non-null    float64\n",
      " 11  sample_origin_ip12_5g  101 non-null    float64\n",
      " 12  sample_count_ip12_5g   101 non-null    float64\n",
      " 13  device_count_ip12_5g   101 non-null    float64\n",
      " 14  avg_dl_ip12_5g         101 non-null    float64\n",
      " 15  sample_origin_ip12_fb  203 non-null    float64\n",
      " 16  sample_count_ip12_fb   203 non-null    float64\n",
      " 17  device_count_ip12_fb   203 non-null    float64\n",
      " 18  avg_dl_ip12_fb         203 non-null    float64\n",
      " 19  sample_origin_ip12_lk  228 non-null    float64\n",
      " 20  sample_count_ip12_lk   228 non-null    float64\n",
      " 21  device_count_ip12_lk   228 non-null    float64\n",
      " 22  avg_dl_ip12_lk         228 non-null    float64\n",
      " 23  sample_origin_ad_5g    210 non-null    float64\n",
      " 24  sample_count_ad_5g     210 non-null    float64\n",
      " 25  device_count_ad_5g     210 non-null    float64\n",
      " 26  avg_dl_ad_5g           210 non-null    float64\n",
      " 27  sample_origin_ad_fb    231 non-null    float64\n",
      " 28  sample_count_ad_fb     231 non-null    float64\n",
      " 29  device_count_ad_fb     231 non-null    float64\n",
      " 30  avg_dl_ad_fb           231 non-null    float64\n",
      " 31  sample_origin_ad_lk    235 non-null    float64\n",
      " 32  sample_count_ad_lk     235 non-null    float64\n",
      " 33  device_count_ad_lk     235 non-null    float64\n",
      " 34  avg_dl_ad_lk           235 non-null    float64\n",
      "dtypes: float64(32), object(3)\n",
      "memory usage: 68.3+ KB\n"
     ]
    }
   ],
   "source": [
    "# group calculation\n",
    "data_st_city_ter_group = data_st_city_ter_raw.query(\n",
    "    \"{} in @filter_st_city_ter_operators\".format(col_st_city_ter_operator)\n",
    ")\n",
    "\n",
    "data_st_city_ter_group.info()"
   ]
  },
  {
   "cell_type": "markdown",
   "id": "equal-burke",
   "metadata": {},
   "source": [
    "### Calculate KPI"
   ]
  },
  {
   "cell_type": "code",
   "execution_count": 24,
   "id": "viral-proposal",
   "metadata": {},
   "outputs": [
    {
     "name": "stdout",
     "output_type": "stream",
     "text": [
      "<class 'pandas.core.frame.DataFrame'>\n",
      "Int64Index: 243 entries, 0 to 281\n",
      "Data columns (total 50 columns):\n",
      " #   Column                 Non-Null Count  Dtype  \n",
      "---  ------                 --------------  -----  \n",
      " 0   area_level1_name       243 non-null    object \n",
      " 1   area_level2_name       243 non-null    object \n",
      " 2   operator_name          243 non-null    object \n",
      " 3   sample_origin_4g_ios   239 non-null    float64\n",
      " 4   sample_count_4g_ios    239 non-null    float64\n",
      " 5   device_count_4g_ios    239 non-null    float64\n",
      " 6   avg_dl_4g_ios          239 non-null    float64\n",
      " 7   sample_origin_4g_ad    237 non-null    float64\n",
      " 8   sample_count_4g_ad     237 non-null    float64\n",
      " 9   device_count_4g_ad     237 non-null    float64\n",
      " 10  avg_dl_4g_ad           237 non-null    float64\n",
      " 11  sample_origin_ip12_5g  101 non-null    float64\n",
      " 12  sample_count_ip12_5g   101 non-null    float64\n",
      " 13  device_count_ip12_5g   101 non-null    float64\n",
      " 14  avg_dl_ip12_5g         101 non-null    float64\n",
      " 15  sample_origin_ip12_fb  203 non-null    float64\n",
      " 16  sample_count_ip12_fb   203 non-null    float64\n",
      " 17  device_count_ip12_fb   203 non-null    float64\n",
      " 18  avg_dl_ip12_fb         203 non-null    float64\n",
      " 19  sample_origin_ip12_lk  228 non-null    float64\n",
      " 20  sample_count_ip12_lk   228 non-null    float64\n",
      " 21  device_count_ip12_lk   228 non-null    float64\n",
      " 22  avg_dl_ip12_lk         228 non-null    float64\n",
      " 23  sample_origin_ad_5g    210 non-null    float64\n",
      " 24  sample_count_ad_5g     210 non-null    float64\n",
      " 25  device_count_ad_5g     210 non-null    float64\n",
      " 26  avg_dl_ad_5g           210 non-null    float64\n",
      " 27  sample_origin_ad_fb    231 non-null    float64\n",
      " 28  sample_count_ad_fb     231 non-null    float64\n",
      " 29  device_count_ad_fb     231 non-null    float64\n",
      " 30  avg_dl_ad_fb           231 non-null    float64\n",
      " 31  sample_origin_ad_lk    235 non-null    float64\n",
      " 32  sample_count_ad_lk     235 non-null    float64\n",
      " 33  device_count_ad_lk     235 non-null    float64\n",
      " 34  avg_dl_ad_lk           235 non-null    float64\n",
      " 35  LTE_Average_Speed      239 non-null    float64\n",
      " 36  NR_Samples             243 non-null    float64\n",
      " 37  NR_Average_Speed       243 non-null    float64\n",
      " 38  NR_Speed_Gain          237 non-null    float64\n",
      " 39  NR_Terminal_Rate       240 non-null    float64\n",
      " 40  NR_Register_Rate       238 non-null    float64\n",
      " 41  NR_Function_Rate       238 non-null    float64\n",
      " 42  NR_Fallback_Rate       232 non-null    float64\n",
      " 43  I12_Samples            243 non-null    float64\n",
      " 44  I12_Average_Speed      101 non-null    float64\n",
      " 45  I12_Speed_Gain         101 non-null    float64\n",
      " 46  I12_Terminal_Rate      238 non-null    float64\n",
      " 47  I12_Register_Rate      101 non-null    float64\n",
      " 48  I12_Function_Rate      234 non-null    float64\n",
      " 49  I12_Fallback_Rate      203 non-null    float64\n",
      "dtypes: float64(47), object(3)\n",
      "memory usage: 96.8+ KB\n"
     ]
    },
    {
     "name": "stderr",
     "output_type": "stream",
     "text": [
      "C:\\Users\\sy999\\J Project\\20210405_CMO_APP\\Functions.py:34: RuntimeWarning: invalid value encountered in true_divide\n",
      "  r = np.divide(ter_5g_total, ter_total)\n",
      "C:\\Users\\sy999\\J Project\\20210405_CMO_APP\\Functions.py:51: RuntimeWarning: invalid value encountered in true_divide\n",
      "  r = np.divide(ter_5g_reg, ter_5g_total)\n",
      "C:\\Users\\sy999\\J Project\\20210405_CMO_APP\\Functions.py:72: RuntimeWarning: invalid value encountered in true_divide\n",
      "  r = np.divide(ter_5g_fun, ter_5g_total)\n",
      "C:\\Users\\sy999\\J Project\\20210405_CMO_APP\\Functions.py:87: RuntimeWarning: invalid value encountered in true_divide\n",
      "  r = np.divide(ter_5g_fb, ter_5g_fun)\n",
      "C:\\Users\\sy999\\J Project\\20210405_CMO_APP\\Functions.py:101: RuntimeWarning: invalid value encountered in true_divide\n",
      "  r = np.divide(ter_5g_ip12, ter_5g_total)\n",
      "C:\\Users\\sy999\\J Project\\20210405_CMO_APP\\Functions.py:122: RuntimeWarning: invalid value encountered in true_divide\n",
      "  r = np.divide(ter_5g_fun_ip12, ter_5g_ip12)\n"
     ]
    }
   ],
   "source": [
    "# calculate market share kpi\n",
    "for kpi, function in zip(col_st_city_ter_kpi, col_st_city_ter_function):\n",
    "    data_st_city_ter_group = data_st_city_ter_group.assign(\n",
    "        **{kpi: lambda x: function(x, filter_st_city_ter_regex)}\n",
    "    )\n",
    "\n",
    "data_st_city_ter_group.info()"
   ]
  },
  {
   "cell_type": "markdown",
   "id": "informed-consequence",
   "metadata": {},
   "source": [
    "### Calculate TNS"
   ]
  },
  {
   "cell_type": "code",
   "execution_count": 25,
   "id": "valid-blogger",
   "metadata": {},
   "outputs": [],
   "source": [
    "# TNS kpi dict 1\n",
    "data_st_city_ter_tns1_dict = {\n",
    "    \"TNS_T\": [\"NR_Terminal_Rate\", \"I12_Terminal_Rate\"],\n",
    "    \"TNS_N\": [\"NR_Register_Rate\", \"NR_Average_Speed\"],\n",
    "    \"TNS_S\": [\"NR_Function_Rate\"],\n",
    "}"
   ]
  },
  {
   "cell_type": "code",
   "execution_count": 26,
   "id": "strange-conviction",
   "metadata": {},
   "outputs": [
    {
     "name": "stdout",
     "output_type": "stream",
     "text": [
      "      NR_Register_Rate  NR_Average_Speed  I12_Terminal_Rate  NR_Function_Rate  NR_Terminal_Rate\n",
      "0.00               0.0               0.0               0.00              0.00               0.0\n",
      "0.25               9.0             163.0              22.00             40.25              15.0\n",
      "0.50              17.0             210.0              28.00             54.00              18.0\n",
      "0.75              30.0             261.5              35.75             65.75              22.0\n",
      "1.00              56.0             692.0             100.00            100.00             100.0\n"
     ]
    }
   ],
   "source": [
    "# TNS kpi threshold 2\n",
    "print(\n",
    "    data_st_city_ter_group[set(sum(data_st_city_ter_tns1_dict.values(), []))].quantile(\n",
    "        q=[0, 0.25, 0.5, 0.75, 1]\n",
    "    )\n",
    ")\n",
    "\n",
    "# auto configure\n",
    "data_st_city_ter_tns1_thd = data_st_city_ter_group[\n",
    "    set(sum(data_st_city_ter_tns1_dict.values(), []))\n",
    "].quantile(q=[0.5])\n",
    "\n",
    "# manual configure\n",
    "# data_st_city_ter_tns1_thd = pd.DataFrame({\n",
    "#     'NR_Terminal_Rate': [20],\n",
    "#     'I12_Terminal_Rate': [20],\n",
    "#     'NR_Register_Rate': [30],\n",
    "#     'NR_Average_Speed': [200],\n",
    "#     'NR_Function_Rate': [50],\n",
    "# })"
   ]
  },
  {
   "cell_type": "code",
   "execution_count": 27,
   "id": "boring-mortality",
   "metadata": {},
   "outputs": [],
   "source": [
    "# TNS kpi cat 1\n",
    "data_st_city_ter_tns1_thd.index = ['Ready']\n",
    "data_st_city_ter_tns1_thd_default = 'Not Ready'"
   ]
  },
  {
   "cell_type": "code",
   "execution_count": 28,
   "id": "precious-disposition",
   "metadata": {},
   "outputs": [],
   "source": [
    "# TNS categorization 1\n",
    "data_st_city_ter_tns = add_kpi_cat(\n",
    "    kpi_df=data_st_city_ter_group,\n",
    "    kpi_dict=data_st_city_ter_tns1_dict,\n",
    "    kpi_thd=data_st_city_ter_tns1_thd,\n",
    "    cat_default=data_st_city_ter_tns1_thd_default,\n",
    ")"
   ]
  },
  {
   "cell_type": "code",
   "execution_count": 29,
   "id": "computational-silence",
   "metadata": {},
   "outputs": [],
   "source": [
    "# TNS kpi dict 2\n",
    "data_st_city_ter_tns2_dict = {\n",
    "    \"TNS_TNS\": [\"TNS_T\", \"TNS_N\", \"TNS_S\"],\n",
    "}"
   ]
  },
  {
   "cell_type": "code",
   "execution_count": 30,
   "id": "lesbian-conflict",
   "metadata": {},
   "outputs": [],
   "source": [
    "# TNS kpi threshold 2\n",
    "data_st_city_ter_tns2_thd = pd.DataFrame({'TNS_T': ['Ready', 'Ready', 'Ready', '*'],\n",
    "                                          'TNS_N': ['Ready', 'Ready', '*', 'Ready'],\n",
    "                                          'TNS_S': ['Ready', '*', 'Ready', 'Ready'],\n",
    "                                          })"
   ]
  },
  {
   "cell_type": "code",
   "execution_count": 31,
   "id": "difficult-grocery",
   "metadata": {},
   "outputs": [],
   "source": [
    "# TNS kpi cat 2\n",
    "data_st_city_ter_tns2_thd.index = ['01 TNS Ready',\n",
    "                                   '02 TN Ready',\n",
    "                                   '03 TS Ready',\n",
    "                                   '04 NS Ready']\n",
    "data_st_city_ter_tns2_thd_default = '05 Not Ready'"
   ]
  },
  {
   "cell_type": "code",
   "execution_count": 32,
   "id": "broken-bleeding",
   "metadata": {},
   "outputs": [
    {
     "name": "stdout",
     "output_type": "stream",
     "text": [
      "05 Not Ready    157\n",
      "01 TNS Ready     44\n",
      "04 NS Ready      33\n",
      "03 TS Ready       6\n",
      "02 TN Ready       3\n",
      "Name: TNS_TNS, dtype: int64\n"
     ]
    }
   ],
   "source": [
    "# TNS categorization 2\n",
    "data_st_city_ter_tns = add_kpi_cat(kpi_df=data_st_city_ter_tns,\n",
    "                                   kpi_dict=data_st_city_ter_tns2_dict,\n",
    "                                   kpi_thd=data_st_city_ter_tns2_thd,\n",
    "                                   cat_default=data_st_city_ter_tns2_thd_default)\n",
    "print(data_st_city_ter_tns['TNS_TNS'].value_counts())"
   ]
  },
  {
   "cell_type": "markdown",
   "id": "theoretical-master",
   "metadata": {},
   "source": [
    "### Convert to gdf"
   ]
  },
  {
   "cell_type": "code",
   "execution_count": 34,
   "id": "black-myanmar",
   "metadata": {},
   "outputs": [],
   "source": [
    "# convert to geo data by joining adm map\n",
    "col_st_city_ter_merge_left = [\"NAME_2\", \"NAME_3\"]\n",
    "col_st_city_ter_merge_right = [\"area_level1_name\", \"area_level2_name\"]\n",
    "\n",
    "data_st_city_ter_geo = map_adm_city.merge(\n",
    "    data_st_city_ter_tns,\n",
    "    left_on=col_st_city_ter_merge_left,\n",
    "    right_on=col_st_city_ter_merge_right,\n",
    ")\n",
    "\n",
    "data_st_city_ter_geo.info()"
   ]
  },
  {
   "cell_type": "markdown",
   "id": "adult-religion",
   "metadata": {},
   "source": [
    "### Visualize geo data"
   ]
  },
  {
   "cell_type": "markdown",
   "id": "speaking-breathing",
   "metadata": {},
   "source": [
    "#### visualize geo kpi"
   ]
  },
  {
   "cell_type": "code",
   "execution_count": 36,
   "id": "dangerous-garlic",
   "metadata": {},
   "outputs": [],
   "source": [
    "# initial parameter\n",
    "vis_output_path = r\"output\\ST_City_Terminal_\"\n",
    "vis_dataset = data_st_city_ter_geo\n",
    "vis_n_col = np.r_[: vis_dataset.shape[1]]\n",
    "vis_col_group = [\"area_level1_name\", \"area_level2_name\"]\n",
    "vis_col_operator = \"operator_name\"\n",
    "vis_col_nr_sample = \"I12_Samples\"\n",
    "vis_filter_sample = 3\n",
    "vis_filter_operator = [\"DNA\", \"Elisa\", \"Telia\"]\n",
    "vis_col_list = [\n",
    "    \"NR_Samples\",\n",
    "    \"NR_Average_Speed\",\n",
    "    \"NR_Terminal_Rate\",\n",
    "    \"NR_Register_Rate\",\n",
    "    \"NR_Function_Rate\",\n",
    "    \"NR_Fallback_Rate\",\n",
    "    \"I12_Samples\",\n",
    "    \"I12_Average_Speed\",\n",
    "    \"I12_Terminal_Rate\",\n",
    "    \"I12_Register_Rate\",\n",
    "    \"I12_Function_Rate\",\n",
    "    \"I12_Fallback_Rate\",\n",
    "]\n",
    "vis_color_dict = {\"DNA\": \"deeppink\", \"Elisa\": \"darkblue\", \"Telia\": \"blueviolet\"}\n",
    "vis_layout = (1, len(vis_filter_operator) + 1)"
   ]
  },
  {
   "cell_type": "code",
   "execution_count": 37,
   "id": "expired-compensation",
   "metadata": {},
   "outputs": [],
   "source": [
    "# use for loop to create multiple layers\n",
    "for vis_col in vis_col_list:\n",
    "    # vis_col = 'device_count_4g_pct'\n",
    "    # vis_palette_n = {'RdYlGn': [50, 100, 200, 500]}\n",
    "    vis_palette_n = palette_n_dict(\n",
    "        vis_dataset[vis_dataset[vis_col_nr_sample] > vis_filter_sample],\n",
    "        vis_col,\n",
    "        5,\n",
    "        0,\n",
    "        \"RdYlGn\",\n",
    "    )\n",
    "\n",
    "    layer_list = []\n",
    "    # kpi layer\n",
    "    for vis_operator in vis_filter_operator:\n",
    "        vis_gdf = vis_dataset[\n",
    "            (vis_dataset[vis_col_operator] == vis_operator)\n",
    "            & (vis_dataset[vis_col_nr_sample] > vis_filter_sample)\n",
    "        ]\n",
    "        layer_list.append(dict(gdf=vis_gdf, col=vis_col, group_name=vis_operator))\n",
    "\n",
    "    # competition layer\n",
    "    vis_gdf = vis_dataset.loc[\n",
    "        vis_dataset.groupby(vis_col_group)[vis_col].idxmax().dropna()\n",
    "    ]\n",
    "    layer_list.append(\n",
    "        dict(\n",
    "            gdf=vis_gdf[(vis_gdf[vis_col_nr_sample] > vis_filter_sample)],\n",
    "            col=vis_col_operator,\n",
    "            group_name=vis_col,\n",
    "            color_dict=vis_color_dict,\n",
    "        )\n",
    "    )\n",
    "\n",
    "    # folium layout\n",
    "    m = folium_layout(\n",
    "        layer_list=layer_list,\n",
    "        layout=vis_layout,\n",
    "        palette_n=vis_palette_n,\n",
    "        n_col=vis_n_col,\n",
    "        groups=True,\n",
    "        legend=True,\n",
    "        weight=1,\n",
    "        opacity=0.9,\n",
    "        fill_opacity=1.0,\n",
    "        color=\"lightgrey\",\n",
    "    )\n",
    "    # output\n",
    "    output_file = vis_output_path + vis_col + \".html\"\n",
    "    m.save(output_file)"
   ]
  },
  {
   "cell_type": "markdown",
   "id": "immediate-genetics",
   "metadata": {},
   "source": [
    "#### visualize TSN"
   ]
  },
  {
   "cell_type": "code",
   "execution_count": 39,
   "id": "respiratory-bottom",
   "metadata": {},
   "outputs": [],
   "source": [
    "# create layer list\n",
    "layer_list = []\n",
    "vis_col = \"TNS_TNS\"\n",
    "vis_color_dict = {\n",
    "    \"01 TNS Ready\": \"Red\",\n",
    "    \"02 TN Ready\": \"Blue\",\n",
    "    \"03 TS Ready\": \"Green\",\n",
    "    \"04 NS Ready\": \"Orange\",\n",
    "    \"05 Not Ready\": \"Grey\",\n",
    "}\n",
    "for filter_operator in vis_filter_operator:\n",
    "    vis_gdf = vis_dataset[\n",
    "        (vis_dataset[vis_col_operator] == filter_operator)\n",
    "        & (vis_dataset[vis_col_nr_sample] > vis_filter_sample)\n",
    "    ]\n",
    "    layer_list.append(dict(gdf=vis_gdf, col=vis_col, group_name=filter_operator))\n",
    "\n",
    "# folium layout\n",
    "m = folium_layout(\n",
    "    layer_list=layer_list,\n",
    "    layout=(1, len(layer_list)),\n",
    "    n_col=vis_n_col,\n",
    "    color_dict=vis_color_dict,\n",
    "    weight=1,\n",
    "    opacity=0.8,\n",
    "    fill_opacity=0.6,\n",
    ")\n",
    "# output\n",
    "output_file = vis_output_path + vis_col + \".html\"\n",
    "m.save(output_file)"
   ]
  },
  {
   "cell_type": "markdown",
   "id": "suited-pierre",
   "metadata": {},
   "source": [
    "## ST CITY VALUE"
   ]
  },
  {
   "cell_type": "markdown",
   "id": "violent-strip",
   "metadata": {},
   "source": [
    "### Import Data"
   ]
  },
  {
   "cell_type": "code",
   "execution_count": 40,
   "id": "backed-prisoner",
   "metadata": {},
   "outputs": [
    {
     "name": "stdout",
     "output_type": "stream",
     "text": [
      "<class 'pandas.core.frame.DataFrame'>\n",
      "RangeIndex: 81 entries, 0 to 80\n",
      "Data columns (total 14 columns):\n",
      " #   Column                        Non-Null Count  Dtype  \n",
      "---  ------                        --------------  -----  \n",
      " 0   NAME_1                        81 non-null     object \n",
      " 1   NAME_2                        81 non-null     object \n",
      " 2   NAME_3                        81 non-null     object \n",
      " 3   Surface_Area                  81 non-null     int64  \n",
      " 4   Inhabitants                   81 non-null     int64  \n",
      " 5   Inhabitants_Density           81 non-null     float64\n",
      " 6   Average_age                   81 non-null     int64  \n",
      " 7   Average_income                81 non-null     int64  \n",
      " 8   Accumulated_purchasing_power  81 non-null     int64  \n",
      " 9   Buildings                     81 non-null     int64  \n",
      " 10  Building_Density              81 non-null     float64\n",
      " 11  Inhabitants_per_Building      81 non-null     float64\n",
      " 12  Enterprise_Density            81 non-null     float64\n",
      " 13  Enterprise_Total              81 non-null     int64  \n",
      "dtypes: float64(4), int64(7), object(3)\n",
      "memory usage: 9.0+ KB\n"
     ]
    }
   ],
   "source": [
    "# path and import\n",
    "data_value_city_path = 'data/Finland_City_Info.csv'\n",
    "data_value_city_raw = pd.read_csv(data_value_city_path)\n",
    "\n",
    "data_value_city_raw.info()"
   ]
  },
  {
   "cell_type": "markdown",
   "id": "compressed-representative",
   "metadata": {},
   "source": [
    "### Calculate KPI"
   ]
  },
  {
   "cell_type": "code",
   "execution_count": 41,
   "id": "sustained-russell",
   "metadata": {},
   "outputs": [],
   "source": [
    "# kpi dict\n",
    "data_value_city_dict = {\n",
    "    \"2c_value\": [\"Inhabitants_Density\", \"Average_income\"],\n",
    "    \"2b_value\": [\"Enterprise_Density\"],\n",
    "    \"2h_value\": [\"Building_Density\", \"Average_income\"],\n",
    "}"
   ]
  },
  {
   "cell_type": "code",
   "execution_count": 42,
   "id": "southwest-macintosh",
   "metadata": {},
   "outputs": [
    {
     "name": "stdout",
     "output_type": "stream",
     "text": [
      "      Average_income  Enterprise_Density  Building_Density  Inhabitants_Density\n",
      "0.00         19793.0                 0.2               0.3                  0.0\n",
      "0.25         22341.0                 1.7               2.8                  6.0\n",
      "0.50         23310.0                 3.9               5.3                 11.0\n",
      "0.75         24493.0                 8.3               8.9                 24.0\n",
      "1.00         31021.0               215.8              59.1                455.0\n"
     ]
    }
   ],
   "source": [
    "# kpi threshold\n",
    "print(\n",
    "    data_value_city_raw[set(sum(data_value_city_dict.values(), []))].quantile(\n",
    "        q=[0, 0.25, 0.5, 0.75, 1]\n",
    "    )\n",
    ")\n",
    "\n",
    "# auto configure\n",
    "data_value_city_thd = data_value_city_raw[\n",
    "    set(sum(data_value_city_dict.values(), []))\n",
    "].quantile(q=[0.75, 0.5, 0.25])\n",
    "\n",
    "# manual configure\n",
    "# data_value_city_thd = pd.DataFrame({'Inhabitants_Density': [50, 10],\n",
    "#                                   'Average_income': [25000, 20000],\n",
    "#                                   'Enterprise_Density': [15, 1],\n",
    "#                                   'Building_Density': [20, 5],\n",
    "#                                   })"
   ]
  },
  {
   "cell_type": "code",
   "execution_count": 43,
   "id": "sound-galaxy",
   "metadata": {},
   "outputs": [],
   "source": [
    "# kpi cat \n",
    "data_value_city_thd.index = ['1 High', '2 Medium High', '3 Medium Low']\n",
    "data_value_city_thd_default = None"
   ]
  },
  {
   "cell_type": "code",
   "execution_count": 44,
   "id": "beneficial-input",
   "metadata": {},
   "outputs": [],
   "source": [
    "# categorization\n",
    "data_value_city_kpi = add_kpi_cat(kpi_df=data_value_city_raw,\n",
    "                                  kpi_dict=data_value_city_dict,\n",
    "                                  kpi_thd=data_value_city_thd,\n",
    "                                  cat_default=data_value_city_thd_default)\n",
    "\n",
    "data_value_city_kpi[\"2c_value\"].value_counts()"
   ]
  },
  {
   "cell_type": "markdown",
   "id": "alive-cisco",
   "metadata": {},
   "source": [
    "### Convert to gdf"
   ]
  },
  {
   "cell_type": "code",
   "execution_count": 48,
   "id": "american-ordinance",
   "metadata": {},
   "outputs": [
    {
     "name": "stdout",
     "output_type": "stream",
     "text": [
      "<class 'geopandas.geodataframe.GeoDataFrame'>\n",
      "Int64Index: 80 entries, 0 to 79\n",
      "Data columns (total 18 columns):\n",
      " #   Column                        Non-Null Count  Dtype   \n",
      "---  ------                        --------------  -----   \n",
      " 0   NAME_1                        80 non-null     object  \n",
      " 1   NAME_2                        80 non-null     object  \n",
      " 2   NAME_3                        80 non-null     object  \n",
      " 3   geometry                      80 non-null     geometry\n",
      " 4   Surface_Area                  80 non-null     int64   \n",
      " 5   Inhabitants                   80 non-null     int64   \n",
      " 6   Inhabitants_Density           80 non-null     float64 \n",
      " 7   Average_age                   80 non-null     int64   \n",
      " 8   Average_income                80 non-null     int64   \n",
      " 9   Accumulated_purchasing_power  80 non-null     int64   \n",
      " 10  Buildings                     80 non-null     int64   \n",
      " 11  Building_Density              80 non-null     float64 \n",
      " 12  Inhabitants_per_Building      80 non-null     float64 \n",
      " 13  Enterprise_Density            80 non-null     float64 \n",
      " 14  Enterprise_Total              80 non-null     int64   \n",
      " 15  2c_value                      56 non-null     object  \n",
      " 16  2b_value                      61 non-null     object  \n",
      " 17  2h_value                      54 non-null     object  \n",
      "dtypes: float64(4), geometry(1), int64(7), object(6)\n",
      "memory usage: 11.9+ KB\n"
     ]
    }
   ],
   "source": [
    "# merge data to gdf\n",
    "col_value_city_merge = [\"NAME_1\", \"NAME_2\", \"NAME_3\"]\n",
    "data_value_city_geo = map_adm_city.merge(data_value_city_kpi, on=col_value_city_merge)\n",
    "\n",
    "data_value_city_geo.info()"
   ]
  },
  {
   "cell_type": "markdown",
   "id": "hidden-default",
   "metadata": {},
   "source": [
    "### Visualize geo data"
   ]
  },
  {
   "cell_type": "code",
   "execution_count": null,
   "id": "hydraulic-monster",
   "metadata": {},
   "outputs": [],
   "source": [
    "m = folium_plot(\n",
    "    gdf=data_value_city_geo,\n",
    "    col=\"2c_value\",\n",
    "    palette_n=\"Purples_r\",\n",
    "    fill_opacity=1.0,\n",
    "    color=\"lightgrey\",\n",
    ")\n",
    "m"
   ]
  },
  {
   "cell_type": "markdown",
   "id": "laden-contest",
   "metadata": {},
   "source": [
    "## CITY ABCDE"
   ]
  },
  {
   "cell_type": "markdown",
   "id": "hazardous-height",
   "metadata": {},
   "source": [
    "### Import Data"
   ]
  },
  {
   "cell_type": "code",
   "execution_count": 63,
   "id": "encouraging-meditation",
   "metadata": {},
   "outputs": [
    {
     "name": "stdout",
     "output_type": "stream",
     "text": [
      "<class 'geopandas.geodataframe.GeoDataFrame'>\n",
      "RangeIndex: 62 entries, 0 to 61\n",
      "Data columns (total 8 columns):\n",
      " #   Column         Non-Null Count  Dtype   \n",
      "---  ------         --------------  -----   \n",
      " 0   NAME_1         62 non-null     object  \n",
      " 1   NAME_2         62 non-null     object  \n",
      " 2   NAME_3         62 non-null     object  \n",
      " 3   Total_Sites    62 non-null     int64   \n",
      " 4   Swapped_Sites  62 non-null     int64   \n",
      " 5   Swapped_5G     62 non-null     int64   \n",
      " 6   Site_5G_pct    62 non-null     float64 \n",
      " 7   geometry       62 non-null     geometry\n",
      "dtypes: float64(1), geometry(1), int64(3), object(3)\n",
      "memory usage: 4.0+ KB\n"
     ]
    }
   ],
   "source": [
    "# path and import\n",
    "data_ep_city_geo_path = 'data/ep/data_ep_city_geo'\n",
    "data_ep_city_geo = gpd.read_file(data_ep_city_geo_path)\n",
    "data_ep_city_geo.columns = pd.read_csv(data_ep_city_geo_path + '/col_name.csv').iloc[:, 0].to_list() + ['geometry']\n",
    "\n",
    "data_ep_city_geo.info()"
   ]
  },
  {
   "cell_type": "markdown",
   "id": "duplicate-allergy",
   "metadata": {},
   "source": [
    "vis_output_path"
   ]
  },
  {
   "cell_type": "code",
   "execution_count": 69,
   "id": "compact-paragraph",
   "metadata": {},
   "outputs": [],
   "source": [
    "# initial parameters\n",
    "vis_output_path = r\"output\\Value_ABCDE_City.html\"\n",
    "vis_col_group = [\"NAME_1\", \"NAME_2\", \"NAME_3\"]\n",
    "vis_col_operator = \"operator_name\"\n",
    "vis_filter_operator = \"DNA\"\n",
    "vis_col_nr_sample = \"I12_Samples\"\n",
    "vis_filter_nr_sample = 0"
   ]
  },
  {
   "cell_type": "code",
   "execution_count": 67,
   "id": "silent-bolivia",
   "metadata": {},
   "outputs": [],
   "source": [
    "# parameter dict\n",
    "vis_parameter_dict = {\n",
    "    \"A\": {\n",
    "        \"group_name\": \"A - Alignment of TNS\",\n",
    "        \"gdf\": data_st_city_ter_geo,\n",
    "        \"col\": \"TNS_TNS\",\n",
    "        \"palette_n\": \"Greens_r\",\n",
    "    },\n",
    "    \"B\": {\n",
    "        \"group_name\": \"B - Building of 5G\",\n",
    "        \"gdf\": data_ep_city_geo,\n",
    "        \"col\": \"Site_5G_pct\",\n",
    "        \"palette_n\": \"Oranges\",\n",
    "    },\n",
    "    \"C\": {\n",
    "        \"group_name\": \"C - Competitiveness of Network\",\n",
    "        \"gdf\": data_st_city_ter_geo,\n",
    "        \"col\": \"I12_Average_Speed\",\n",
    "        \"palette_n\": \"Reds_r\",\n",
    "    },\n",
    "    \"D\": {\n",
    "        \"group_name\": \"D - Division of Market\",\n",
    "        \"gdf\": data_value_city_geo,\n",
    "        \"col\": \"2c_value\",\n",
    "        \"palette_n\": \"Purples_r\",\n",
    "    },\n",
    "    \"E\": {\n",
    "        \"group_name\": \"E - Estimation of Market-Share\",\n",
    "        \"gdf\": data_st_city_per_geo,\n",
    "        \"col\": \"device_count_4g_pct\",\n",
    "        \"palette_n\": \"Blues\",\n",
    "    },\n",
    "}"
   ]
  },
  {
   "cell_type": "code",
   "execution_count": 70,
   "id": "liked-capacity",
   "metadata": {},
   "outputs": [],
   "source": [
    "# folium plot\n",
    "layer_list = []\n",
    "for _, val in vis_parameter_dict.items():\n",
    "    # get parameter value from dict\n",
    "    group_name = val.get(\"group_name\")\n",
    "    gdf = val.get(\"gdf\")\n",
    "    col = val.get(\"col\")\n",
    "    palette_n = val.get(\"palette_n\")\n",
    "\n",
    "    # case handler\n",
    "    if \"C\" in group_name:\n",
    "        gdf[\"rank\"] = gdf.groupby(vis_col_group)[col].rank(ascending=False).astype(str)\n",
    "        col = \"rank\"\n",
    "    if (\"A\" in group_name) or (\"C\" in group_name):\n",
    "        gdf = gdf[gdf[vis_col_nr_sample] > vis_filter_nr_sample]\n",
    "    if (\"A\" in group_name) or (\"C\" in group_name) or (\"E\" in group_name):\n",
    "        gdf = gdf[(gdf[vis_col_operator] == vis_filter_operator)]\n",
    "    if \"E\" in group_name:\n",
    "        palette_n = {palette_n: [0.10, 0.20, 0.25, 0.33, 0.50, 1.00]}\n",
    "    if \"B\" in group_name:\n",
    "        gdf = gdf[(gdf[col] > 0)]\n",
    "        palette_n = {palette_n: [0.01, 0.05, 0.10, 0.25, 0.50]}\n",
    "    # add parameter to layer_list\n",
    "    layer_list.append(\n",
    "        dict(\n",
    "            gdf=gdf,\n",
    "            col=col,\n",
    "            group_name=group_name,\n",
    "            palette_n=palette_n,\n",
    "        )\n",
    "    )\n",
    "\n",
    "# folium layout\n",
    "m = folium_layout(\n",
    "    layer_list=layer_list,\n",
    "    layout=(1, 5),\n",
    "    weight=1,\n",
    "    opacity=0.9,\n",
    "    fill_opacity=1.0,\n",
    "    color=\"lightgrey\",\n",
    "    bin_decimal=2,\n",
    ")\n",
    "\n",
    "# output\n",
    "output_file = vis_output_path\n",
    "m.save(output_file)"
   ]
  },
  {
   "cell_type": "code",
   "execution_count": null,
   "id": "spoken-sierra",
   "metadata": {},
   "outputs": [],
   "source": []
  }
 ],
 "metadata": {
  "kernelspec": {
   "display_name": "env_py38",
   "language": "python",
   "name": "env_py38"
  },
  "language_info": {
   "codemirror_mode": {
    "name": "ipython",
    "version": 3
   },
   "file_extension": ".py",
   "mimetype": "text/x-python",
   "name": "python",
   "nbconvert_exporter": "python",
   "pygments_lexer": "ipython3",
   "version": "3.8.8"
  }
 },
 "nbformat": 4,
 "nbformat_minor": 5
}
