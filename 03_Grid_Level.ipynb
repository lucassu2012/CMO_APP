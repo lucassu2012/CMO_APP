{
 "cells": [
  {
   "cell_type": "code",
   "execution_count": 1,
   "id": "processed-meaning",
   "metadata": {},
   "outputs": [],
   "source": [
    "import numpy as np\n",
    "import pandas as pd\n",
    "import geopandas as gpd\n",
    "import matplotlib.pyplot as plt"
   ]
  },
  {
   "cell_type": "code",
   "execution_count": null,
   "id": "joined-passage",
   "metadata": {},
   "outputs": [],
   "source": [
    "from FoliumPlot import folium_plot, folium_layout\n",
    "from Functions import *"
   ]
  },
  {
   "cell_type": "markdown",
   "id": "previous-tourism",
   "metadata": {},
   "source": [
    "## ST GRID TERMINAL"
   ]
  },
  {
   "cell_type": "markdown",
   "id": "accepted-drain",
   "metadata": {},
   "source": [
    "### Import Data"
   ]
  },
  {
   "cell_type": "code",
   "execution_count": 3,
   "id": "thousand-london",
   "metadata": {},
   "outputs": [
    {
     "name": "stdout",
     "output_type": "stream",
     "text": [
      "<class 'pandas.core.frame.DataFrame'>\n",
      "RangeIndex: 53097 entries, 0 to 53096\n",
      "Data columns (total 39 columns):\n",
      " #   Column                 Non-Null Count  Dtype  \n",
      "---  ------                 --------------  -----  \n",
      " 0   date_year              53097 non-null  int64  \n",
      " 1   date_month             53097 non-null  int64  \n",
      " 2   client_region_name     53097 non-null  object \n",
      " 3   client_city_name       53097 non-null  object \n",
      " 4   Longitude              53097 non-null  float64\n",
      " 5   Latitude               53097 non-null  float64\n",
      " 6   operator_name          53097 non-null  object \n",
      " 7   sample_origin_4g_ios   22344 non-null  float64\n",
      " 8   sample_count_4g_ios    22344 non-null  float64\n",
      " 9   device_count_4g_ios    22344 non-null  float64\n",
      " 10  avg_dl_4g_ios          22331 non-null  float64\n",
      " 11  sample_origin_4g_ad    29706 non-null  float64\n",
      " 12  sample_count_4g_ad     29706 non-null  float64\n",
      " 13  device_count_4g_ad     29706 non-null  float64\n",
      " 14  avg_dl_4g_ad           29679 non-null  float64\n",
      " 15  sample_origin_ip12_5g  5608 non-null   float64\n",
      " 16  sample_count_ip12_5g   5608 non-null   float64\n",
      " 17  device_count_ip12_5g   5608 non-null   float64\n",
      " 18  avg_dl_ip12_5g         5607 non-null   float64\n",
      " 19  sample_origin_ip12_fb  2214 non-null   float64\n",
      " 20  sample_count_ip12_fb   2214 non-null   float64\n",
      " 21  device_count_ip12_fb   2214 non-null   float64\n",
      " 22  avg_dl_ip12_fb         2214 non-null   float64\n",
      " 23  sample_origin_ip12_lk  3043 non-null   float64\n",
      " 24  sample_count_ip12_lk   3043 non-null   float64\n",
      " 25  device_count_ip12_lk   3043 non-null   float64\n",
      " 26  avg_dl_ip12_lk         3042 non-null   float64\n",
      " 27  sample_origin_ad_5g    10226 non-null  float64\n",
      " 28  sample_count_ad_5g     10226 non-null  float64\n",
      " 29  device_count_ad_5g     10226 non-null  float64\n",
      " 30  avg_dl_ad_5g           10223 non-null  float64\n",
      " 31  sample_origin_ad_fb    6655 non-null   float64\n",
      " 32  sample_count_ad_fb     6655 non-null   float64\n",
      " 33  device_count_ad_fb     6655 non-null   float64\n",
      " 34  avg_dl_ad_fb           6649 non-null   float64\n",
      " 35  sample_origin_ad_lk    2984 non-null   float64\n",
      " 36  sample_count_ad_lk     2984 non-null   float64\n",
      " 37  device_count_ad_lk     2984 non-null   float64\n",
      " 38  avg_dl_ad_lk           2976 non-null   float64\n",
      "dtypes: float64(34), int64(2), object(3)\n",
      "memory usage: 15.8+ MB\n"
     ]
    }
   ],
   "source": [
    "# path and import\n",
    "data_st_grid_ter_path = 'data/st/03a_data_st_ter_grid.csv'\n",
    "data_st_grid_ter_raw = pd.read_csv(data_st_grid_ter_path, na_values=[0])\n",
    "\n",
    "data_st_grid_ter_raw.info()"
   ]
  },
  {
   "cell_type": "markdown",
   "id": "alive-adventure",
   "metadata": {},
   "source": [
    "### Aggregate Data"
   ]
  },
  {
   "cell_type": "code",
   "execution_count": 4,
   "id": "alone-ecology",
   "metadata": {},
   "outputs": [],
   "source": [
    "# initial parameters\n",
    "filter_st_grid_ter_year = 2020\n",
    "filter_st_grid_ter_month = 1\n",
    "filter_st_grid_ter_operators = [\"DNA\", \"Elisa\", \"Telia\"]\n",
    "col_st_grid_ter_year = \"date_year\"\n",
    "col_st_grid_ter_month = \"date_month\"\n",
    "col_st_grid_ter_operator = \"operator_name\"\n",
    "col_st_grid_ter_group = [\"Longitude\", \"Latitude\"]\n",
    "col_st_grid_ter_sum = [\n",
    "    \"sample_origin_4g_ios\",\n",
    "    \"sample_count_4g_ios\",\n",
    "    \"device_count_4g_ios\",\n",
    "    \"sample_origin_4g_ad\",\n",
    "    \"sample_count_4g_ad\",\n",
    "    \"device_count_4g_ad\",\n",
    "    \"sample_origin_ip12_5g\",\n",
    "    \"sample_count_ip12_5g\",\n",
    "    \"device_count_ip12_5g\",\n",
    "    \"sample_origin_ip12_fb\",\n",
    "    \"sample_count_ip12_fb\",\n",
    "    \"device_count_ip12_fb\",\n",
    "    \"sample_origin_ip12_lk\",\n",
    "    \"sample_count_ip12_lk\",\n",
    "    \"device_count_ip12_lk\",\n",
    "    \"sample_origin_ad_5g\",\n",
    "    \"sample_count_ad_5g\",\n",
    "    \"device_count_ad_5g\",\n",
    "    \"sample_origin_ad_fb\",\n",
    "    \"sample_count_ad_fb\",\n",
    "    \"device_count_ad_fb\",\n",
    "    \"sample_origin_ad_lk\",\n",
    "    \"sample_count_ad_lk\",\n",
    "    \"device_count_ad_lk\",\n",
    "]\n",
    "col_st_grid_ter_mean = [\n",
    "    \"avg_dl_4g_ios\",\n",
    "    \"avg_dl_4g_ad\",\n",
    "    \"avg_dl_ip12_5g\",\n",
    "    \"avg_dl_ip12_fb\",\n",
    "    \"avg_dl_ip12_lk\",\n",
    "    \"avg_dl_ad_5g\",\n",
    "    \"avg_dl_ad_fb\",\n",
    "    \"avg_dl_ad_lk\",\n",
    "]"
   ]
  },
  {
   "cell_type": "code",
   "execution_count": 5,
   "id": "defined-exposure",
   "metadata": {},
   "outputs": [],
   "source": [
    "# group calculation\n",
    "data_st_grid_ter_group = (\n",
    "    data_st_grid_ter_raw.query(\n",
    "        \"{} * 12 + {} >= @filter_st_grid_ter_year * 12 + @filter_st_grid_ter_month\".format(\n",
    "            col_st_grid_ter_year, col_st_grid_ter_month\n",
    "        )\n",
    "    )\n",
    "    .query(\"{} in @filter_st_grid_ter_operators\".format(col_st_grid_ter_operator))\n",
    "    .groupby(col_st_grid_ter_group + [col_st_grid_ter_operator])\n",
    "    .agg(\n",
    "        {\n",
    "            **{kpi: np.sum for kpi in col_st_grid_ter_sum},\n",
    "            **{kpi: np.mean for kpi in col_st_grid_ter_mean},\n",
    "        }\n",
    "    )\n",
    "    .reset_index()\n",
    "    .replace(0, np.nan)\n",
    ")\n",
    "\n",
    "data_st_grid_ter_group.info()"
   ]
  },
  {
   "cell_type": "markdown",
   "id": "valuable-softball",
   "metadata": {},
   "source": [
    "### Convert to gdf"
   ]
  },
  {
   "cell_type": "code",
   "execution_count": 7,
   "id": "periodic-toner",
   "metadata": {},
   "outputs": [],
   "source": [
    "# convert to gdf with utm coordinates\n",
    "col_st_grid_ter_coords_wgs = [\"Longitude\", \"Latitude\"]\n",
    "col_st_grid_ter_coords_utm = [\"Longitude_utm\", \"Latitude_utm\"]\n",
    "\n",
    "data_st_grid_ter_geo = gpd.GeoDataFrame(\n",
    "    data_st_grid_ter_group,\n",
    "    geometry=gpd.points_from_xy(\n",
    "        data_st_grid_ter_group[col_st_grid_ter_coords_wgs[0]],\n",
    "        data_st_grid_ter_group[col_st_grid_ter_coords_wgs[1]],\n",
    "    ),\n",
    "    crs=4326,\n",
    ")"
   ]
  },
  {
   "cell_type": "code",
   "execution_count": 8,
   "id": "excellent-vampire",
   "metadata": {},
   "outputs": [],
   "source": [
    "# convert back to wgs coordinates\n",
    "data_st_grid_ter_utm = data_st_grid_ter_geo.to_crs(\n",
    "    data_st_grid_ter_geo.estimate_utm_crs().to_epsg()\n",
    ")\n",
    "data_st_grid_ter_utm[col_st_grid_ter_coords_utm] = np.c_[\n",
    "    data_st_grid_ter_utm.geometry.x, data_st_grid_ter_utm.geometry.y\n",
    "]\n",
    "\n",
    "data_st_grid_ter_utm.info()"
   ]
  },
  {
   "cell_type": "markdown",
   "id": "opposed-compound",
   "metadata": {},
   "source": [
    "### Interpolation Data"
   ]
  },
  {
   "cell_type": "code",
   "execution_count": 11,
   "id": "aboriginal-kitchen",
   "metadata": {},
   "outputs": [],
   "source": [
    "# path and import\n",
    "data_st_grid_ter_interpolate_path = 'data/st/03b_data_st_ter_grid_pred.csv'\n",
    "data_st_grid_ter_interpolate_raw = pd.read_csv(data_st_grid_ter_interpolate_path, na_values=[0])"
   ]
  },
  {
   "cell_type": "code",
   "execution_count": 12,
   "id": "ceramic-despite",
   "metadata": {},
   "outputs": [
    {
     "name": "stdout",
     "output_type": "stream",
     "text": [
      "<class 'geopandas.geodataframe.GeoDataFrame'>\n",
      "RangeIndex: 22221 entries, 0 to 22220\n",
      "Data columns (total 40 columns):\n",
      " #   Column                 Non-Null Count  Dtype   \n",
      "---  ------                 --------------  -----   \n",
      " 0   Longitude              22221 non-null  float64 \n",
      " 1   Latitude               22221 non-null  float64 \n",
      " 2   operator_name          22221 non-null  object  \n",
      " 3   sample_origin_4g_ios   10815 non-null  float64 \n",
      " 4   sample_count_4g_ios    10815 non-null  float64 \n",
      " 5   device_count_4g_ios    10815 non-null  float64 \n",
      " 6   sample_origin_4g_ad    12676 non-null  float64 \n",
      " 7   sample_count_4g_ad     12676 non-null  float64 \n",
      " 8   device_count_4g_ad     12676 non-null  float64 \n",
      " 9   sample_origin_ip12_5g  3667 non-null   float64 \n",
      " 10  sample_count_ip12_5g   3667 non-null   float64 \n",
      " 11  device_count_ip12_5g   3667 non-null   float64 \n",
      " 12  sample_origin_ip12_fb  1636 non-null   float64 \n",
      " 13  sample_count_ip12_fb   1636 non-null   float64 \n",
      " 14  device_count_ip12_fb   1636 non-null   float64 \n",
      " 15  sample_origin_ip12_lk  2261 non-null   float64 \n",
      " 16  sample_count_ip12_lk   2261 non-null   float64 \n",
      " 17  device_count_ip12_lk   2261 non-null   float64 \n",
      " 18  sample_origin_ad_5g    5635 non-null   float64 \n",
      " 19  sample_count_ad_5g     5635 non-null   float64 \n",
      " 20  device_count_ad_5g     5635 non-null   float64 \n",
      " 21  sample_origin_ad_fb    4211 non-null   float64 \n",
      " 22  sample_count_ad_fb     4211 non-null   float64 \n",
      " 23  device_count_ad_fb     4211 non-null   float64 \n",
      " 24  sample_origin_ad_lk    2248 non-null   float64 \n",
      " 25  sample_count_ad_lk     2248 non-null   float64 \n",
      " 26  device_count_ad_lk     2248 non-null   float64 \n",
      " 27  avg_dl_4g_ios          10810 non-null  float64 \n",
      " 28  avg_dl_4g_ad           12665 non-null  float64 \n",
      " 29  avg_dl_ip12_5g         3666 non-null   float64 \n",
      " 30  avg_dl_ip12_fb         1636 non-null   float64 \n",
      " 31  avg_dl_ip12_lk         2260 non-null   float64 \n",
      " 32  avg_dl_ad_5g           5634 non-null   float64 \n",
      " 33  avg_dl_ad_fb           4209 non-null   float64 \n",
      " 34  avg_dl_ad_lk           2242 non-null   float64 \n",
      " 35  geometry               22221 non-null  geometry\n",
      " 36  avg_dl_4g_ios_pred     22221 non-null  float64 \n",
      " 37  avg_dl_4g_ad_pred      22221 non-null  float64 \n",
      " 38  avg_dl_ip12_5g_pred    22221 non-null  float64 \n",
      " 39  avg_dl_ad_5g_pred      22221 non-null  float64 \n",
      "dtypes: float64(38), geometry(1), object(1)\n",
      "memory usage: 6.8+ MB\n"
     ]
    }
   ],
   "source": [
    "# convert to gdf\n",
    "data_st_grid_ter_interpolate_geo = gpd.GeoDataFrame(data_st_grid_ter_interpolate_raw,\n",
    "                                                    geometry=gpd.points_from_xy(\n",
    "                                                        data_st_grid_ter_interpolate_raw.Longitude,\n",
    "                                                        data_st_grid_ter_interpolate_raw.Latitude),\n",
    "                                                    crs=4326\n",
    "                                                    )\n",
    "\n",
    "data_st_grid_ter_interpolate_geo.info()"
   ]
  },
  {
   "cell_type": "markdown",
   "id": "wooden-daughter",
   "metadata": {},
   "source": [
    "### Visualize geo data"
   ]
  },
  {
   "cell_type": "code",
   "execution_count": 14,
   "id": "stunning-davis",
   "metadata": {},
   "outputs": [],
   "source": [
    "# initial parameter\n",
    "vis_output_file = r\"output\\ST_Grid_Terminal_\"\n",
    "vis_dataset = data_st_grid_ter_interpolate_geo\n",
    "vis_n_col = np.r_[: vis_dataset.shape[1]]\n",
    "vis_col_group = [\"Longitude\", \"Latitude\"]\n",
    "vis_col_operator = \"operator_name\"\n",
    "vis_filter_operator = [\"DNA\", \"Elisa\", \"Telia\"]\n",
    "vis_col_list = [\"avg_dl_4g_ios_pred\", \"avg_dl_ip12_5g_pred\"]\n",
    "vis_color_dict = {\"DNA\": \"deeppink\", \"Elisa\": \"darkblue\", \"Telia\": \"blueviolet\"}\n",
    "vis_layout = (2, 2)"
   ]
  },
  {
   "cell_type": "code",
   "execution_count": 15,
   "id": "backed-stationery",
   "metadata": {},
   "outputs": [],
   "source": [
    "# use for loop to create multiple layers\n",
    "for vis_col in vis_col_list:\n",
    "    vis_palette_n = palette_n_dict(vis_dataset, vis_col, 5, 0, \"RdYlGn\")\n",
    "    layer_list = []\n",
    "    \n",
    "    # kpi layer\n",
    "    for vis_operator in vis_filter_operator:\n",
    "        vis_gdf = vis_dataset[(vis_dataset[vis_col_operator] == vis_operator)]\n",
    "        layer_list.append(dict(gdf=vis_gdf, col=vis_col, group_name=vis_operator))\n",
    "    \n",
    "    # competition layer\n",
    "    vis_gdf = vis_dataset.loc[\n",
    "        vis_dataset.groupby(vis_col_group)[vis_col].idxmax().dropna()\n",
    "    ]\n",
    "    \n",
    "    layer_list.append(\n",
    "        dict(\n",
    "            gdf=vis_gdf,\n",
    "            col=vis_col_operator,\n",
    "            group_name=vis_col,\n",
    "            color_dict=vis_color_dict,\n",
    "        )\n",
    "    )\n",
    "    \n",
    "    # folium layout\n",
    "    m = folium_layout(\n",
    "        layer_list=layer_list,\n",
    "        layout=vis_layout,\n",
    "        palette_n=vis_palette_n,\n",
    "        n_col=vis_n_col,\n",
    "        groups=True,\n",
    "        legend=True,\n",
    "    )\n",
    "    # output\n",
    "    output_file = vis_output_file + vis_col + \".html\"\n",
    "    m.save(output_file)"
   ]
  },
  {
   "cell_type": "code",
   "execution_count": null,
   "id": "bizarre-waters",
   "metadata": {},
   "outputs": [],
   "source": []
  }
 ],
 "metadata": {
  "kernelspec": {
   "display_name": "env_py38",
   "language": "python",
   "name": "env_py38"
  },
  "language_info": {
   "codemirror_mode": {
    "name": "ipython",
    "version": 3
   },
   "file_extension": ".py",
   "mimetype": "text/x-python",
   "name": "python",
   "nbconvert_exporter": "python",
   "pygments_lexer": "ipython3",
   "version": "3.8.8"
  }
 },
 "nbformat": 4,
 "nbformat_minor": 5
}
