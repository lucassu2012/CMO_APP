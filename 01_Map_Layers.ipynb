{
 "cells": [
  {
   "cell_type": "code",
   "execution_count": 8,
   "id": "victorian-tonight",
   "metadata": {},
   "outputs": [],
   "source": [
    "import numpy as np\n",
    "import pandas as pd\n",
    "import geopandas as gpd\n",
    "import matplotlib.pyplot as plt"
   ]
  },
  {
   "cell_type": "code",
   "execution_count": 9,
   "id": "moving-liver",
   "metadata": {},
   "outputs": [],
   "source": [
    "from FoliumPlot import folium_plot, folium_layout\n",
    "from Functions import *"
   ]
  },
  {
   "cell_type": "markdown",
   "id": "alternative-diabetes",
   "metadata": {},
   "source": [
    "## BASE MAPS"
   ]
  },
  {
   "cell_type": "markdown",
   "id": "theoretical-sound",
   "metadata": {},
   "source": [
    "### administrative map"
   ]
  },
  {
   "cell_type": "code",
   "execution_count": 10,
   "id": "inner-release",
   "metadata": {},
   "outputs": [],
   "source": [
    "# map path and layer path\n",
    "map_adm_path = \"map/gadm36_FIN_shp.zip\"\n",
    "map_adm_region_layer = \"gadm36_FIN_2.shp\"\n",
    "map_adm_city_layer = \"gadm36_FIN_3.shp\"\n",
    "map_adm_district_layer = \"gadm36_FIN_4.shp\""
   ]
  },
  {
   "cell_type": "code",
   "execution_count": 11,
   "id": "acting-victim",
   "metadata": {},
   "outputs": [],
   "source": [
    "# import and filter\n",
    "filter_col_map_adm = [\"NAME_1\", \"NAME_2\", \"NAME_3\", \"NAME_4\", \"geometry\"]\n",
    "map_adm_region = gpd.read_file(\n",
    "    \"zip://./\" + map_adm_path + \"!/\" + map_adm_region_layer\n",
    ").filter(filter_col_map_adm)\n",
    "\n",
    "map_adm_city = gpd.read_file(\n",
    "    \"zip://./\" + map_adm_path + \"!/\" + map_adm_city_layer\n",
    ").filter(filter_col_map_adm)\n",
    "\n",
    "map_adm_district = gpd.read_file(\n",
    "    \"zip://./\" + map_adm_path + \"!/\" + map_adm_district_layer\n",
    ").filter(filter_col_map_adm)"
   ]
  },
  {
   "cell_type": "code",
   "execution_count": 12,
   "id": "limited-process",
   "metadata": {},
   "outputs": [
    {
     "name": "stdout",
     "output_type": "stream",
     "text": [
      "(21, 3) (80, 4) (437, 5)\n"
     ]
    }
   ],
   "source": [
    "# data validation\n",
    "print(map_adm_region.shape, map_adm_city.shape, map_adm_district.shape)"
   ]
  },
  {
   "cell_type": "code",
   "execution_count": 13,
   "id": "twenty-sewing",
   "metadata": {},
   "outputs": [],
   "source": [
    "# Helsinki center adm map\n",
    "filter_map_adm_helsinki = [\"Helsinki\", \"Vantaa\", \"Espoo\"]\n",
    "map_adm_helsinki = map_adm_district.query(\n",
    "    \"NAME_4 in @filter_map_adm_helsinki\"\n",
    ").reset_index(drop=True)"
   ]
  },
  {
   "cell_type": "markdown",
   "id": "competitive-collar",
   "metadata": {},
   "source": [
    "### postcode map"
   ]
  },
  {
   "cell_type": "code",
   "execution_count": 14,
   "id": "combined-reasoning",
   "metadata": {},
   "outputs": [],
   "source": [
    "# map path and layer path\n",
    "map_pc_path = 'map/paavo_postinumeroalueet_2020.zip'\n",
    "map_pc_layer = 'paavo_postinumeroalueet_2020.zip.shp'"
   ]
  },
  {
   "cell_type": "code",
   "execution_count": 15,
   "id": "opposed-anxiety",
   "metadata": {},
   "outputs": [],
   "source": [
    "# import and filter\n",
    "filter_col_map_pc = [\"posti_alue\", \"geometry\"]\n",
    "map_pc_raw = gpd.read_file(\"zip://./\" + map_pc_path + \"!/\" + map_pc_layer).filter(\n",
    "    filter_col_map_pc\n",
    ")"
   ]
  },
  {
   "cell_type": "code",
   "execution_count": 16,
   "id": "built-enlargement",
   "metadata": {
    "tags": []
   },
   "outputs": [],
   "source": [
    "# add adm data through sjoin\n",
    "map_pc_adm = gpd.sjoin(\n",
    "    gpd.GeoDataFrame(\n",
    "        map_pc_raw.drop(\"geometry\", axis=1), geometry=map_pc_raw.geometry.centroid\n",
    "    ),\n",
    "    map_adm_district.to_crs(map_pc_raw.crs),\n",
    ").drop([\"index_right\", \"geometry\"], axis=1)"
   ]
  },
  {
   "cell_type": "code",
   "execution_count": 17,
   "id": "respected-wound",
   "metadata": {},
   "outputs": [],
   "source": [
    "# merge data to gdf\n",
    "col_map_pc_merge = \"posti_alue\"\n",
    "map_pc_geo = map_pc_raw.merge(map_pc_adm, on=col_map_pc_merge).to_crs(4326)"
   ]
  },
  {
   "cell_type": "code",
   "execution_count": 19,
   "id": "accepted-timing",
   "metadata": {},
   "outputs": [
    {
     "name": "stdout",
     "output_type": "stream",
     "text": [
      "<class 'geopandas.geodataframe.GeoDataFrame'>\n",
      "Int64Index: 2960 entries, 0 to 2959\n",
      "Data columns (total 6 columns):\n",
      " #   Column      Non-Null Count  Dtype   \n",
      "---  ------      --------------  -----   \n",
      " 0   posti_alue  2960 non-null   object  \n",
      " 1   geometry    2960 non-null   geometry\n",
      " 2   NAME_1      2960 non-null   object  \n",
      " 3   NAME_2      2960 non-null   object  \n",
      " 4   NAME_3      2960 non-null   object  \n",
      " 5   NAME_4      2960 non-null   object  \n",
      "dtypes: geometry(1), object(5)\n",
      "memory usage: 161.9+ KB\n"
     ]
    }
   ],
   "source": [
    "map_pc_geo.info()"
   ]
  },
  {
   "cell_type": "code",
   "execution_count": 19,
   "id": "accompanied-chambers",
   "metadata": {},
   "outputs": [],
   "source": [
    "# save\n",
    "output_path = \"map/map_pc_geo\"\n",
    "map_pc_geo.to_file(output_path)"
   ]
  },
  {
   "cell_type": "code",
   "execution_count": 20,
   "id": "cheap-patrick",
   "metadata": {},
   "outputs": [],
   "source": [
    "# Helsinki center pc map\n",
    "map_pc_helsinki = map_pc_geo.query(\"NAME_4 in @filter_map_adm_helsinki\").reset_index(\n",
    "    drop=True\n",
    ")"
   ]
  },
  {
   "cell_type": "code",
   "execution_count": 21,
   "id": "racial-procedure",
   "metadata": {},
   "outputs": [],
   "source": [
    "# save\n",
    "output_path = 'map/map_pc_helsinki'\n",
    "map_pc_helsinki.to_file(output_path)"
   ]
  },
  {
   "cell_type": "code",
   "execution_count": 25,
   "id": "accompanied-brazilian",
   "metadata": {},
   "outputs": [],
   "source": [
    "# folium plot\n",
    "m = folium_plot(\n",
    "    gdf=map_pc_helsinki, col=\"NAME_4\", tooltip_col=\"posti_alue\", fill_opacity=0.8\n",
    ")"
   ]
  },
  {
   "cell_type": "markdown",
   "id": "boxed-compensation",
   "metadata": {},
   "source": [
    "### engineering parameter"
   ]
  },
  {
   "cell_type": "code",
   "execution_count": 26,
   "id": "handy-march",
   "metadata": {},
   "outputs": [],
   "source": [
    "# ep site\n",
    "data_ep_path = 'data/ep/EP_SITE.csv'\n",
    "data_ep_raw = pd.read_csv(data_ep_path)"
   ]
  },
  {
   "cell_type": "code",
   "execution_count": 27,
   "id": "severe-bankruptcy",
   "metadata": {},
   "outputs": [],
   "source": [
    "# convert df to gdf\n",
    "data_ep_site_geo = gpd.GeoDataFrame(\n",
    "    data_ep_raw,\n",
    "    geometry=gpd.points_from_xy(\n",
    "        x=data_ep_raw.Longitude, y=data_ep_raw.Latitude, crs=4326\n",
    "    ),\n",
    "    copy=True,\n",
    ")"
   ]
  },
  {
   "cell_type": "code",
   "execution_count": 28,
   "id": "collected-swaziland",
   "metadata": {},
   "outputs": [],
   "source": [
    "# ep city\n",
    "data_ep_city_raw = (\n",
    "    gpd.sjoin(data_ep_site_geo, map_adm_city)\n",
    "    .drop([\"index_right\", \"Longitude\", \"Latitude\"], axis=1)\n",
    "    .groupby([\"NAME_1\", \"NAME_2\", \"NAME_3\"], as_index=False)\n",
    "    .sum()\n",
    ")\n",
    "# 5G percentage\n",
    "data_ep_city_raw = data_ep_city_raw.assign(\n",
    "    Site_5G_pct=lambda x: np.round(x.Swapped_5G / x.Total_Sites, 2)\n",
    ")"
   ]
  },
  {
   "cell_type": "code",
   "execution_count": 29,
   "id": "going-comparative",
   "metadata": {},
   "outputs": [],
   "source": [
    "# merge data to postcode map\n",
    "data_ep_city_geo = map_adm_city.merge(\n",
    "    data_ep_city_raw, on=[\"NAME_1\", \"NAME_2\", \"NAME_3\"]\n",
    ")"
   ]
  },
  {
   "cell_type": "code",
   "execution_count": 31,
   "id": "linear-letters",
   "metadata": {},
   "outputs": [
    {
     "name": "stdout",
     "output_type": "stream",
     "text": [
      "<class 'geopandas.geodataframe.GeoDataFrame'>\n",
      "Int64Index: 62 entries, 0 to 61\n",
      "Data columns (total 8 columns):\n",
      " #   Column         Non-Null Count  Dtype   \n",
      "---  ------         --------------  -----   \n",
      " 0   NAME_1         62 non-null     object  \n",
      " 1   NAME_2         62 non-null     object  \n",
      " 2   NAME_3         62 non-null     object  \n",
      " 3   geometry       62 non-null     geometry\n",
      " 4   Total_Sites    62 non-null     int64   \n",
      " 5   Swapped_Sites  62 non-null     int64   \n",
      " 6   Swapped_5G     62 non-null     int64   \n",
      " 7   Site_5G_pct    62 non-null     float64 \n",
      "dtypes: float64(1), geometry(1), int64(3), object(3)\n",
      "memory usage: 4.4+ KB\n"
     ]
    }
   ],
   "source": [
    "data_ep_city_geo.info()"
   ]
  },
  {
   "cell_type": "code",
   "execution_count": 30,
   "id": "alternate-graham",
   "metadata": {},
   "outputs": [
    {
     "name": "stderr",
     "output_type": "stream",
     "text": [
      "<ipython-input-30-17dd5744768c>:3: UserWarning: Column names longer than 10 characters will be truncated when saved to ESRI Shapefile.\n",
      "  data_ep_city_geo.to_file(output_path)\n"
     ]
    }
   ],
   "source": [
    "# save gdf data\n",
    "output_path = 'data/ep/data_ep_city_geo'\n",
    "data_ep_city_geo.to_file(output_path)"
   ]
  },
  {
   "cell_type": "code",
   "execution_count": 36,
   "id": "portable-basin",
   "metadata": {},
   "outputs": [],
   "source": [
    "# save gdf column name\n",
    "output_col_name_path = \"data/ep/data_ep_city_geo/col_name.csv\"\n",
    "pd.DataFrame(data_ep_city_geo.drop(\"geometry\", axis=1).columns).to_csv(\n",
    "    output_col_name_path, index=False\n",
    ")"
   ]
  },
  {
   "cell_type": "code",
   "execution_count": 32,
   "id": "lesser-vegetarian",
   "metadata": {},
   "outputs": [],
   "source": [
    "# folium plot\n",
    "m = folium_plot(\n",
    "    gdf=data_ep_city_geo[data_ep_city_geo[\"Site_5G_pct\"] > 0],\n",
    "    col=\"Site_5G_pct\",\n",
    "    n_col=7,\n",
    "    fill_opacity=1.0,\n",
    "    palette_n={\"Oranges\": [0.01, 0.05, 0.10, 0.25, 0.50]},\n",
    "    color=\"lightgrey\",\n",
    "    bin_decimal=2,\n",
    ")"
   ]
  },
  {
   "cell_type": "markdown",
   "id": "equivalent-suggestion",
   "metadata": {},
   "source": [
    "### population map"
   ]
  },
  {
   "cell_type": "code",
   "execution_count": 34,
   "id": "uniform-crown",
   "metadata": {},
   "outputs": [],
   "source": [
    "# data path\n",
    "map_population_path = \"map/population_1km/vaki2019_1km_kp.shp\"\n",
    "map_population_raw = gpd.read_file(map_population_path).to_crs(4326)"
   ]
  },
  {
   "cell_type": "code",
   "execution_count": 35,
   "id": "occasional-harvest",
   "metadata": {},
   "outputs": [
    {
     "name": "stdout",
     "output_type": "stream",
     "text": [
      "<class 'geopandas.geodataframe.GeoDataFrame'>\n",
      "RangeIndex: 98703 entries, 0 to 98702\n",
      "Data columns (total 12 columns):\n",
      " #   Column     Non-Null Count  Dtype   \n",
      "---  ------     --------------  -----   \n",
      " 0   kunta      98703 non-null  object  \n",
      " 1   grd_id     98703 non-null  object  \n",
      " 2   id_nro     98703 non-null  float64 \n",
      " 3   vaesto     98703 non-null  float64 \n",
      " 4   miehet     98703 non-null  float64 \n",
      " 5   naiset     98703 non-null  float64 \n",
      " 6   ika_0_14   98703 non-null  float64 \n",
      " 7   ika_15_64  98703 non-null  float64 \n",
      " 8   ika_65_    98703 non-null  float64 \n",
      " 9   xkoord     98703 non-null  int64   \n",
      " 10  ykoord     98703 non-null  int64   \n",
      " 11  geometry   98703 non-null  geometry\n",
      "dtypes: float64(7), geometry(1), int64(2), object(2)\n",
      "memory usage: 9.0+ MB\n"
     ]
    }
   ],
   "source": [
    "map_population_raw.info()"
   ]
  }
 ],
 "metadata": {
  "kernelspec": {
   "display_name": "env_py38",
   "language": "python",
   "name": "env_py38"
  },
  "language_info": {
   "codemirror_mode": {
    "name": "ipython",
    "version": 3
   },
   "file_extension": ".py",
   "mimetype": "text/x-python",
   "name": "python",
   "nbconvert_exporter": "python",
   "pygments_lexer": "ipython3",
   "version": "3.8.8"
  },
  "toc-autonumbering": true
 },
 "nbformat": 4,
 "nbformat_minor": 5
}
