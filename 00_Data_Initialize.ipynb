{
 "cells": [
  {
   "cell_type": "code",
   "execution_count": 1,
   "id": "combined-mediterranean",
   "metadata": {},
   "outputs": [],
   "source": [
    "import glob\n",
    "import pandas as pd"
   ]
  },
  {
   "cell_type": "markdown",
   "id": "rising-elder",
   "metadata": {},
   "source": [
    "## CONVERT ST DATA FORMAT"
   ]
  },
  {
   "cell_type": "markdown",
   "id": "boxed-straight",
   "metadata": {},
   "source": [
    "### Convert xlsx to csv"
   ]
  },
  {
   "cell_type": "code",
   "execution_count": 20,
   "id": "changing-crossing",
   "metadata": {},
   "outputs": [],
   "source": [
    "output_folder = 'data/st/raw/'"
   ]
  },
  {
   "cell_type": "code",
   "execution_count": 22,
   "id": "breathing-message",
   "metadata": {},
   "outputs": [
    {
     "data": {
      "text/plain": [
       "['data/st/raw\\\\fi_city_basic_kpi_arrange.xlsx',\n",
       " 'data/st/raw\\\\fi_city_ue_kpi_arrange.xlsx',\n",
       " 'data/st/raw\\\\fi_grid_ue_kpi_arrange.xlsx',\n",
       " 'data/st/raw\\\\fi_L2_1_year_arrange.xlsx',\n",
       " 'data/st/raw\\\\fi_L2_2021_arrange.xlsx',\n",
       " 'data/st/raw\\\\fi_L3_1_year_arrange.xlsx',\n",
       " 'data/st/raw\\\\fi_L3_2021_arrange.xlsx']"
      ]
     },
     "execution_count": 22,
     "metadata": {},
     "output_type": "execute_result"
    }
   ],
   "source": [
    "input_files = glob.glob(output_folder+'*.xlsx')\n",
    "input_files"
   ]
  },
  {
   "cell_type": "code",
   "execution_count": 21,
   "id": "oriental-footage",
   "metadata": {},
   "outputs": [],
   "source": [
    "for file in input_files:\n",
    "    file_name = file.split('\\\\')[-1].split('.')[0]\n",
    "    pd.read_excel(file).to_csv(output_folder+file_name+'.csv', index=False, encoding='utf-8-sig')"
   ]
  },
  {
   "cell_type": "code",
   "execution_count": null,
   "id": "front-defensive",
   "metadata": {},
   "outputs": [],
   "source": []
  },
  {
   "cell_type": "code",
   "execution_count": null,
   "id": "dependent-angel",
   "metadata": {},
   "outputs": [],
   "source": []
  }
 ],
 "metadata": {
  "kernelspec": {
   "display_name": "env_py38",
   "language": "python",
   "name": "env_py38"
  },
  "language_info": {
   "codemirror_mode": {
    "name": "ipython",
    "version": 3
   },
   "file_extension": ".py",
   "mimetype": "text/x-python",
   "name": "python",
   "nbconvert_exporter": "python",
   "pygments_lexer": "ipython3",
   "version": "3.8.8"
  },
  "toc-autonumbering": true
 },
 "nbformat": 4,
 "nbformat_minor": 5
}
